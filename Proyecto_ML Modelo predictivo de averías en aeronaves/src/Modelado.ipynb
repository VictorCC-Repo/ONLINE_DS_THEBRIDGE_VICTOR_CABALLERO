{
 "cells": [
  {
   "cell_type": "code",
   "execution_count": 52,
   "metadata": {},
   "outputs": [],
   "source": [
    "import pandas as pd\n",
    "import numpy as np\n",
    "import matplotlib.pyplot as plt\n",
    "import seaborn as sns\n",
    "from sklearn.preprocessing import LabelEncoder\n",
    "import os\n",
    "import warnings\n",
    "warnings.filterwarnings(\"ignore\")\n",
    "from sklearn.model_selection import train_test_split\n",
    "from sklearn.preprocessing import OneHotEncoder, StandardScaler\n",
    "from sklearn.ensemble import RandomForestClassifier\n",
    "from sklearn.linear_model import LogisticRegression\n",
    "from sklearn.ensemble import GradientBoostingClassifier\n",
    "from sklearn.metrics import classification_report, roc_auc_score\n",
    "from sklearn.pipeline import Pipeline\n",
    "from sklearn.compose import ColumnTransformer\n",
    "from sklearn.model_selection import cross_val_score\n",
    "from sklearn.metrics import confusion_matrix, ConfusionMatrixDisplay, classification_report\n",
    "from sklearn.metrics import roc_curve, RocCurveDisplay\n",
    "from sklearn.model_selection import GridSearchCV\n"
   ]
  },
  {
   "cell_type": "code",
   "execution_count": 53,
   "metadata": {},
   "outputs": [],
   "source": [
    "data = pd.read_csv(\"./data/combinada_binaria.csv\", encoding=\"latin1\")"
   ]
  },
  {
   "cell_type": "code",
   "execution_count": 54,
   "metadata": {},
   "outputs": [
    {
     "name": "stdout",
     "output_type": "stream",
     "text": [
      "<class 'pandas.core.frame.DataFrame'>\n",
      "RangeIndex: 203300 entries, 0 to 203299\n",
      "Data columns (total 12 columns):\n",
      " #   Column          Non-Null Count   Dtype  \n",
      "---  ------          --------------   -----  \n",
      " 0   Fecha           203300 non-null  object \n",
      " 1   Numero_vuelo    203300 non-null  object \n",
      " 2   Station         203300 non-null  object \n",
      " 3   AC              203300 non-null  object \n",
      " 4   Minutos         203300 non-null  float64\n",
      " 5   ATA             203300 non-null  int64  \n",
      " 6   Total_Vuelos    203300 non-null  int64  \n",
      " 7   Hora            203300 non-null  int64  \n",
      " 8   Franja_Horaria  203300 non-null  object \n",
      " 9   Mes             203300 non-null  int64  \n",
      " 10  AÃ±o            203300 non-null  int64  \n",
      " 11  Estacion_Ano    203300 non-null  object \n",
      "dtypes: float64(1), int64(5), object(6)\n",
      "memory usage: 18.6+ MB\n"
     ]
    }
   ],
   "source": [
    "data.info()"
   ]
  },
  {
   "cell_type": "code",
   "execution_count": 55,
   "metadata": {},
   "outputs": [],
   "source": [
    "# Selección de las variables y tarjet\n",
    "X = data[['Minutos', 'Total_Vuelos', 'Hora', 'Franja_Horaria', 'AC', 'Estacion_Ano']]\n",
    "y = data['ATA']"
   ]
  },
  {
   "cell_type": "code",
   "execution_count": 56,
   "metadata": {},
   "outputs": [],
   "source": [
    "# Dividir los datos en entrenamiento y prueba\n",
    "X_train, X_test, y_train, y_test = train_test_split(X, y, test_size=0.2, random_state=42, stratify=y)"
   ]
  },
  {
   "cell_type": "code",
   "execution_count": 57,
   "metadata": {},
   "outputs": [
    {
     "name": "stdout",
     "output_type": "stream",
     "text": [
      "(162640, 6)\n",
      "(162640,)\n",
      "(40660, 6)\n",
      "(40660,)\n"
     ]
    }
   ],
   "source": [
    "print (X_train.shape)\n",
    "print (y_train.shape)\n",
    "print (X_test.shape)\n",
    "print (y_test.shape)"
   ]
  },
  {
   "cell_type": "code",
   "execution_count": 58,
   "metadata": {},
   "outputs": [
    {
     "name": "stdout",
     "output_type": "stream",
     "text": [
      "Categóricas: ['Franja_Horaria', 'AC', 'Estacion_Ano']\n",
      "Numéricas: ['Minutos', 'Total_Vuelos', 'Hora']\n"
     ]
    }
   ],
   "source": [
    "# Análisis de tipos de variables\n",
    "categorical_columns = X.select_dtypes(include=['object']).columns\n",
    "numeric_columns = X.select_dtypes(include=['int64', 'float64']).columns\n",
    "print(f'Categóricas: {list(categorical_columns)}')\n",
    "print(f'Numéricas: {list(numeric_columns)}')"
   ]
  },
  {
   "cell_type": "code",
   "execution_count": null,
   "metadata": {},
   "outputs": [],
   "source": [
    "# Codificar variables según tipo\n",
    "categorical_features = ['Franja_Horaria', 'AC', 'Estacion_Ano']\n",
    "numeric_features = ['Minutos', 'Total_Vuelos', 'Hora']"
   ]
  },
  {
   "cell_type": "markdown",
   "metadata": {},
   "source": [
    "### Usaremos varios modelos para compararlos e identificar cual es el que mejor se adapta"
   ]
  },
  {
   "cell_type": "code",
   "execution_count": 60,
   "metadata": {},
   "outputs": [],
   "source": [
    "# Preprocesamiento para Logistic Regression (escalado numérico)\n",
    "# La regresión logítisca es sensible a las escalas de las variable, por lo que el escalado mejora su rendimiento. Media 0 y desviación estandar 1.\n",
    "# En este caso nos interesa porque trabajando con diferentes escalas, se tiene en en cuenta todas las variables de forma más equilibrada.\n",
    "numeric_transformer_lr = StandardScaler()\n",
    "categorical_transformer = OneHotEncoder(handle_unknown='ignore')# convertimos cada caracteristica o valor de una categorica a una columna de binaria. Así pasamos de texto a número."
   ]
  },
  {
   "cell_type": "code",
   "execution_count": 61,
   "metadata": {},
   "outputs": [],
   "source": [
    "# Preprocesao para regression logistica\n",
    "preprocessor_lr = ColumnTransformer(transformers=[('num', numeric_transformer_lr, numeric_features),('cat', categorical_transformer, categorical_features)],remainder='passthrough')"
   ]
  },
  {
   "cell_type": "code",
   "execution_count": 62,
   "metadata": {},
   "outputs": [],
   "source": [
    "# Preprocesamiento para modelos de árboles (sin escalado)\n",
    "preprocessor_trees = ColumnTransformer(transformers=[('cat', categorical_transformer, categorical_features)],remainder='passthrough')"
   ]
  },
  {
   "cell_type": "code",
   "execution_count": 63,
   "metadata": {},
   "outputs": [],
   "source": [
    "# Prueba de los distintos modelos\n",
    "models = {\n",
    "    \"Logistic Regression\": (LogisticRegression(max_iter=1000, random_state=42), preprocessor_lr), # Logistic Regression: Sencillo, rápido y fácil de interpretar.\n",
    "    \"Random Forest\": (RandomForestClassifier(n_estimators=100, random_state=42), preprocessor_trees), # Random Forest: Robusto, no requiere escalado, ideal para capturar no linealidades.\n",
    "    \"Gradient Boosting\": (GradientBoostingClassifier(random_state=42), preprocessor_trees) # Gradient Boosting: Excelente para datos tabulares con relaciones complejas.\n",
    "}"
   ]
  },
  {
   "cell_type": "markdown",
   "metadata": {},
   "source": [
    "#### Se usa pipeline\n",
    "Para garantizar que el preprocesamiento de los datos solo sea en el entrenamiento y se evita que expongan en la parte de test."
   ]
  },
  {
   "cell_type": "code",
   "execution_count": null,
   "metadata": {},
   "outputs": [
    {
     "name": "stdout",
     "output_type": "stream",
     "text": [
      "\n",
      "Procesando modelo: Logistic Regression\n",
      "Realizando validación cruzada...\n"
     ]
    },
    {
     "name": "stdout",
     "output_type": "stream",
     "text": [
      "Resultados de Validación Cruzada (ROC-AUC) para Logistic Regression: 0.9840\n",
      "Entrenando el modelo y generando predicciones...\n",
      "Generando matriz de confusión...\n"
     ]
    },
    {
     "data": {
      "image/png": "[encoded data removed]",
      "text/plain": [
       "<Figure size 640x480 with 2 Axes>"
      ]
     },
     "metadata": {},
     "output_type": "display_data"
    },
    {
     "name": "stdout",
     "output_type": "stream",
     "text": [
      "Reporte de clasificación para Logistic Regression:\n",
      "\n",
      "              precision    recall  f1-score   support\n",
      "\n",
      "           0       1.00      1.00      1.00     39997\n",
      "           1       1.00      0.92      0.96       663\n",
      "\n",
      "    accuracy                           1.00     40660\n",
      "   macro avg       1.00      0.96      0.98     40660\n",
      "weighted avg       1.00      1.00      1.00     40660\n",
      "\n",
      "\n",
      "Procesando modelo: Random Forest\n",
      "Realizando validación cruzada...\n",
      "Resultados de Validación Cruzada (ROC-AUC) para Random Forest: 0.9830\n",
      "Entrenando el modelo y generando predicciones...\n",
      "Generando matriz de confusión...\n"
     ]
    },
    {
     "data": {
      "image/png": "[encoded data removed]",
      "text/plain": [
       "<Figure size 640x480 with 2 Axes>"
      ]
     },
     "metadata": {},
     "output_type": "display_data"
    },
    {
     "name": "stdout",
     "output_type": "stream",
     "text": [
      "Reporte de clasificación para Random Forest:\n",
      "\n",
      "              precision    recall  f1-score   support\n",
      "\n",
      "           0       1.00      1.00      1.00     39997\n",
      "           1       1.00      0.96      0.98       663\n",
      "\n",
      "    accuracy                           1.00     40660\n",
      "   macro avg       1.00      0.98      0.99     40660\n",
      "weighted avg       1.00      1.00      1.00     40660\n",
      "\n",
      "\n",
      "Procesando modelo: Gradient Boosting\n",
      "Realizando validación cruzada...\n",
      "Resultados de Validación Cruzada (ROC-AUC) para Gradient Boosting: 0.9826\n",
      "Entrenando el modelo y generando predicciones...\n",
      "Generando matriz de confusión...\n"
     ]
    },
    {
     "data": {
      "image/png": "[encoded data removed]",
      "text/plain": [
       "<Figure size 640x480 with 2 Axes>"
      ]
     },
     "metadata": {},
     "output_type": "display_data"
    },
    {
     "name": "stdout",
     "output_type": "stream",
     "text": [
      "Reporte de clasificación para Gradient Boosting:\n",
      "\n",
      "              precision    recall  f1-score   support\n",
      "\n",
      "           0       1.00      1.00      1.00     39997\n",
      "           1       1.00      0.96      0.98       663\n",
      "\n",
      "    accuracy                           1.00     40660\n",
      "   macro avg       1.00      0.98      0.99     40660\n",
      "weighted avg       1.00      1.00      1.00     40660\n",
      "\n"
     ]
    },
    {
     "data": {
      "text/plain": [
       "'\\nGenera un informe detallado con métricas clave para cada clase (0 y 1):\\nPrecisión (Precision): Proporción de predicciones correctas de la clase positiva.\\nCobertura (Recall): Proporción de verdaderos positivos detectados.\\nF1-Score: Promedio armonizado entre precisión y cobertura.\\nSoporte (Support): Cantidad de ejemplos reales en cada clase.\\nPropósito: Evaluar el rendimiento del modelo en detalle, identificando fortalezas y debilidades.\\n'"
      ]
     },
     "execution_count": 64,
     "metadata": {},
     "output_type": "execute_result"
    }
   ],
   "source": [
    "# Probar modelos uno por uno\n",
    "for model_name, (model, preprocessor) in models.items():\n",
    "    print(f\"\\nProcesando modelo: {model_name}\")\n",
    "    # Crear pipeline\n",
    "    pipeline = Pipeline(steps=[\n",
    "        ('preprocessor', preprocessor), #Transforma las variables categóricas y numéricas según el modelo.\n",
    "        ('classifier', model) # El modelo ML se ajustará y evaluará.\n",
    "    ])\n",
    "    # Validación cruzada\n",
    "    print(\"Realizando validación cruzada...\")\n",
    "    cv_score = cross_val_score(pipeline, X_train, y_train, cv=5, scoring='roc_auc') # hacemos 5 subdivisiones, métrica para la curva ROC\n",
    "    print(f\"Resultados de Validación Cruzada (ROC-AUC) para {model_name}: {cv_score.mean():.4f}\") # SAcamos el rendimiento promedio.\n",
    "    \n",
    "    # Entrenar y evaluar el modelo\n",
    "    print(\"Entrenando el modelo y generando predicciones...\")\n",
    "    pipeline.fit(X_train, y_train) # Ajusta el modelo con el conjunto de entrenamiento (X_train, y_train)\n",
    "    y_pred = pipeline.predict(X_test) # Genera predicciones para el conjunto de prueba (X_test).\n",
    "    \n",
    "    # Matriz de confusión\n",
    "    print(\"Generando matriz de confusión...\")\n",
    "    cm = confusion_matrix(y_test, y_pred) #Genera una matriz que compara las etiquetas reales (y_test) con las predicciones (y_pred)\n",
    "    disp = ConfusionMatrixDisplay(confusion_matrix=cm, display_labels=[0, 1]) # Visualizamos la matriz de confusión en un gráfico. Podremos ver los aciertos y errores.\n",
    "    disp.plot(cmap=\"viridis\")\n",
    "    plt.title(f\"Matriz de Confusión - {model_name}\")\n",
    "    plt.show()\n",
    "    \n",
    "    # Métricas detalladas\n",
    "    print(f\"Reporte de clasificación para {model_name}:\\n\")\n",
    "    print(classification_report(y_test, y_pred))\n",
    "'''\n",
    "Genera un informe detallado con métricas clave para cada clase (0 y 1):\n",
    "Precisión (Precision): Proporción de predicciones correctas de la clase positiva.\n",
    "Cobertura (Recall): Proporción de verdaderos positivos detectados.\n",
    "F1-Score: Promedio entre precisión y cobertura.\n",
    "Soporte (Support): Número de ejemplos reales en cada clase.\n",
    "Propósito: Evaluar el rendimiento de cada modelo, identificando fortalezas y debilidades. \n",
    "'''"
   ]
  },
  {
   "cell_type": "markdown",
   "metadata": {},
   "source": [
    "Utilizamos el pipeline para evalugar varios modelos.\n",
    "El bucle itera sobre un diccionario llamado models, donde:  \n",
    "Creamos un pipeline.\n",
    "Aplicamos validacion cruzada para medir el rendimiento de cada uno.  \n",
    "Entrenamos con los datos de entrenamiento y evaluamos sus predicciones en el conjunto de test.  \n",
    "Generamos una matriz de confusión y un reporte de clasificación para analizar el rendimiento.  "
   ]
  },
  {
   "cell_type": "markdown",
   "metadata": {},
   "source": [
    "### Selección del Modelo\n",
    "El modelo seleccionado fue **Random Forest** por su rendimiento superior:\n",
    "- **ROC-AUC:** 0.9828\n",
    "- **Precisión general:** 98.3%\n",
    "- Aplica mútliples árboles de decisión en subconjutnos y combina resutlado para evitar sobreajuste.   \n",
    "- En comparación el gradient es más preciso pero requiere mas tiempo al ser más precio, lento y sensible a los hiperparametros\n",
    " "
   ]
  },
  {
   "cell_type": "code",
   "execution_count": 65,
   "metadata": {},
   "outputs": [],
   "source": [
    "# Entrenar el modelo seleccionado: Random Forest\n",
    "rf_pipeline = Pipeline(steps=[('preprocessor', preprocessor_trees),('classifier', RandomForestClassifier(n_estimators=100, random_state=42))])\n",
    "# Con preprocessor usamos el preprocessor_trees para las variables categóricas con OneHotEncoder"
   ]
  },
  {
   "cell_type": "code",
   "execution_count": 66,
   "metadata": {},
   "outputs": [],
   "source": [
    "# Entrenamiento y predricciones\n",
    "rf_pipeline.fit(X_train, y_train)\n",
    "y_pred = rf_pipeline.predict(X_test)\n",
    "y_pred_proba = rf_pipeline.predict_proba(X_test)[:, 1]"
   ]
  },
  {
   "cell_type": "code",
   "execution_count": null,
   "metadata": {},
   "outputs": [],
   "source": [
    "# 1. Análisis de importancia de variables\n",
    "rf_model = rf_pipeline.named_steps['classifier'] #Accede al clasificador entrenado (RandomForestClassifier) dentro del pipeline\n",
    "feature_names = preprocessor_trees.transformers_[0][1].get_feature_names_out(categorical_features).tolist() #Obtiene los nombres de las variables categóricas procesadas con OneHotEncoder\n",
    "feature_names += numeric_features\n",
    "importances = rf_model.feature_importances_ # asigna un valor de importancia a cada variable según su contribución a las decisiones del modelo \n",
    "sorted_indices = np.argsort(importances)[::-1] # Ordena índice de mayor a menor por importancia"
   ]
  },
  {
   "cell_type": "code",
   "execution_count": null,
   "metadata": {},
   "outputs": [
    {
     "data": {
      "image/png": "[encoded data removed]",
      "text/plain": [
       "<Figure size 1000x600 with 1 Axes>"
      ]
     },
     "metadata": {},
     "output_type": "display_data"
    }
   ],
   "source": [
    "# Visualización de importancia de variables\n",
    "# Genera un gráfico de barras mostrando las 10 variables más importantes.\n",
    "plt.figure(figsize=(10, 6))\n",
    "plt.bar([feature_names[i] for i in sorted_indices[:10]], importances[sorted_indices[:10]])\n",
    "plt.title(\"Importancia de Variables (Random Forest)\")\n",
    "plt.ylabel(\"Importancia\")\n",
    "plt.xlabel(\"Variables\")\n",
    "plt.xticks(rotation=45)\n",
    "plt.show()"
   ]
  },
  {
   "cell_type": "markdown",
   "metadata": {},
   "source": [
    "Este gráfico muestra las variables más importantes para el modelo Random Forest, indicando cuáles tienen mayor impacto en las predicciones.   \n",
    "Las barras más largas representan variables con mayor contribución, como los retrasos en minutos o el tipo de avión.   \n",
    "Es útil para comprender los factores clave que impulsan las decisiones del modelo y justificarlo ante audiencias no técnicas.  "
   ]
  },
  {
   "cell_type": "code",
   "execution_count": 69,
   "metadata": {},
   "outputs": [],
   "source": [
    "# 2. Visualización de precision, recall y F1-score\n",
    "report = classification_report(y_test, y_pred, output_dict=True)\n",
    "metrics_df = pd.DataFrame(report).transpose()\n",
    "metrics_df = metrics_df.loc[['0', '1'], ['precision', 'recall', 'f1-score']]"
   ]
  },
  {
   "cell_type": "code",
   "execution_count": 70,
   "metadata": {},
   "outputs": [
    {
     "data": {
      "image/png": "[encoded data removed]",
      "text/plain": [
       "<Figure size 1000x600 with 1 Axes>"
      ]
     },
     "metadata": {},
     "output_type": "display_data"
    }
   ],
   "source": [
    "# Gráfico de métricas por clase\n",
    "metrics_df.plot(kind='bar', figsize=(10, 6))\n",
    "plt.title(\"Precision, Recall y F1-Score por Clase (Random Forest)\")\n",
    "plt.ylabel(\"Valor\")\n",
    "plt.xlabel(\"Clase\")\n",
    "plt.xticks(rotation=0)\n",
    "plt.show()"
   ]
  },
  {
   "cell_type": "markdown",
   "metadata": {},
   "source": [
    "Este gráfico compara precisión, recall y F1-score para las clases \"Sin avería\" (0) y \"Con avería\" (1).   \n",
    "La precisión mide cuántas predicciones de averías fueron correctas, mientras que el recall mide cuántas averías reales fueron detectadas.   \n",
    "El F1-score combina ambas métricas para evaluar el balance en clases desbalanceadas.   \n",
    "Los resultados muestran un resultado muy bueno en la clase 0 y un bueno para la clase 1, aunque con un recall ligeramente más bajo. Quizás algunas averías podrían pasar desapercibidas (falsos negativos).   \n",
    "Este análisis destaca el equilibrio del modelo en identificar correctamente ambas clases."
   ]
  },
  {
   "cell_type": "code",
   "execution_count": 71,
   "metadata": {},
   "outputs": [],
   "source": [
    "# 3. Detección de errores sistemáticos: análisis de falsos positivos y negativos\n",
    "errors = pd.DataFrame({\n",
    "    'Predicted': y_pred,\n",
    "    'Actual': y_test,\n",
    "    'Minutos': X_test['Minutos'],\n",
    "    'Total_Vuelos': X_test['Total_Vuelos'],\n",
    "    'AC': X_test['AC']\n",
    "})"
   ]
  },
  {
   "cell_type": "code",
   "execution_count": 72,
   "metadata": {},
   "outputs": [],
   "source": [
    "# Filtrar FP y FN\n",
    "falsos_positivos = errors[(errors['Predicted'] == 1) & (errors['Actual'] == 0)]\n",
    "falsos_negativos = errors[(errors['Predicted'] == 0) & (errors['Actual'] == 1)]"
   ]
  },
  {
   "cell_type": "code",
   "execution_count": 73,
   "metadata": {},
   "outputs": [
    {
     "name": "stdout",
     "output_type": "stream",
     "text": [
      "Falsos Positivos (Random Forest):\n",
      "Empty DataFrame\n",
      "Columns: [Predicted, Actual, Minutos, Total_Vuelos, AC]\n",
      "Index: []\n",
      "Falsos Negativos (Random Forest):\n",
      "        Predicted  Actual  Minutos  Total_Vuelos         AC\n",
      "202776          0       1      0.0          8285  avion  22\n",
      "201943          0       1      0.0          6958  avion  23\n",
      "202873          0       1      0.0          4202  avion  37\n",
      "201521          0       1      0.0          6958  avion  23\n",
      "202014          0       1      0.0          7784   avion  3\n",
      "200865          0       1      0.0          8535  avion  21\n",
      "200998          0       1      0.0          6463   avion  4\n",
      "202925          0       1      0.0          4759  avion  36\n",
      "200590          0       1      0.0          7981   avion  1\n",
      "201905          0       1      0.0          6868  avion  16\n",
      "202039          0       1      0.0          3254  avion  24\n",
      "201917          0       1      0.0          8185  avion  20\n",
      "201030          0       1      0.0          8211  avion  25\n",
      "201727          0       1      0.0          3254  avion  24\n",
      "202419          0       1      0.0          5949  avion  34\n",
      "200941          0       1      0.0          7952  avion  18\n",
      "202286          0       1      0.0          8285  avion  22\n",
      "201574          0       1      0.0          7784   avion  3\n",
      "202500          0       1      0.0          4759  avion  36\n",
      "201585          0       1      0.0          4759  avion  36\n"
     ]
    }
   ],
   "source": [
    "# Mostrar falsos positivos\n",
    "print(\"Falsos Positivos (Random Forest):\")\n",
    "print(falsos_positivos.head(10))\n",
    "\n",
    "# Mostrar falsos negativos\n",
    "print(\"Falsos Negativos (Random Forest):\")\n",
    "print(falsos_negativos.head(20))"
   ]
  },
  {
   "cell_type": "code",
   "execution_count": 74,
   "metadata": {},
   "outputs": [
    {
     "name": "stdout",
     "output_type": "stream",
     "text": [
      "Falsos positivos: 0\n",
      "Falsos negativos: 27\n"
     ]
    }
   ],
   "source": [
    "# Verificar los tamaños de los errores\n",
    "print(f\"Falsos positivos: {len(falsos_positivos)}\")\n",
    "print(f\"Falsos negativos: {len(falsos_negativos)}\")"
   ]
  },
  {
   "cell_type": "markdown",
   "metadata": {},
   "source": [
    "#### Train, validation y test"
   ]
  },
  {
   "cell_type": "code",
   "execution_count": 75,
   "metadata": {},
   "outputs": [],
   "source": [
    "# Dividir los datos en train (70%), validation (15%) y test (15%)\n",
    "X_train_full, X_test, y_train_full, y_test = train_test_split(X, y, test_size=0.15, random_state=42, stratify=y)\n",
    "X_train, X_val, y_train, y_val = train_test_split(X_train_full, y_train_full, test_size=0.1765, random_state=42, stratify=y_train_full) #stratify asegura que la proporción de clases en los conjuntos sea similar a la original.\n"
   ]
  },
  {
   "cell_type": "code",
   "execution_count": 76,
   "metadata": {},
   "outputs": [
    {
     "name": "stdout",
     "output_type": "stream",
     "text": [
      "Tamaños: Train = 142304, Validation = 30501, Test = 30495\n"
     ]
    }
   ],
   "source": [
    "# Comprobación\n",
    "print(f\"Tamaños: Train = {len(X_train)}, Validation = {len(X_val)}, Test = {len(X_test)}\")\n"
   ]
  },
  {
   "cell_type": "code",
   "execution_count": 77,
   "metadata": {},
   "outputs": [
    {
     "name": "stdout",
     "output_type": "stream",
     "text": [
      "(142304, 6)\n",
      "(30501, 6)\n",
      "(30495, 6)\n"
     ]
    }
   ],
   "source": [
    "# Otra forma de comprobación\n",
    "print(X_train.shape)\n",
    "print(X_val.shape)\n",
    "print(X_test.shape)"
   ]
  },
  {
   "cell_type": "code",
   "execution_count": 78,
   "metadata": {},
   "outputs": [],
   "source": [
    "# Preproceso para Random Forest mediante el OneHotEncoding\n",
    "preprocessor_trees = ColumnTransformer(transformers=[('cat', OneHotEncoder(handle_unknown='ignore'), ['Franja_Horaria', 'AC', 'Estacion_Ano'])],remainder='passthrough') #remainder='passthrough.'Las columnas no especificadas (numéricas) se dejan sin procesar."
   ]
  },
  {
   "cell_type": "code",
   "execution_count": 79,
   "metadata": {},
   "outputs": [],
   "source": [
    "# Crear pipeline, aseguramos que no haya errores juntos\n",
    "rf_pipeline = Pipeline(steps=[('preprocessor', preprocessor_trees),('classifier', RandomForestClassifier(random_state=42))])"
   ]
  },
  {
   "cell_type": "code",
   "execution_count": 80,
   "metadata": {},
   "outputs": [],
   "source": [
    "# Definir los hiperparámetros para GridSearch\n",
    "param_grid = {\n",
    "    'classifier__n_estimators': [50, 100], # Número de árboles en el bosque (50 o 100)\n",
    "    'classifier__max_depth': [10, 20, None], # Profundidad máxima de los árboles (10, 20 o ilimitada)\n",
    "    'classifier__min_samples_leaf': [1, 2] # Número mínimo de muestras requeridas en una hoja (1 o 2\n",
    "}"
   ]
  },
  {
   "cell_type": "code",
   "execution_count": 81,
   "metadata": {},
   "outputs": [
    {
     "name": "stdout",
     "output_type": "stream",
     "text": [
      "Fitting 5 folds for each of 12 candidates, totalling 60 fits\n"
     ]
    },
    {
     "data": {
      "text/html": [
       "<style>#sk-container-id-2 {\n",
       "  /* Definition of color scheme common for light and dark mode */\n",
       "  --sklearn-color-text: black;\n",
       "  --sklearn-color-line: gray;\n",
       "  /* Definition of color scheme for unfitted estimators */\n",
       "  --sklearn-color-unfitted-level-0: #fff5e6;\n",
       "  --sklearn-color-unfitted-level-1: #f6e4d2;\n",
       "  --sklearn-color-unfitted-level-2: #ffe0b3;\n",
       "  --sklearn-color-unfitted-level-3: chocolate;\n",
       "  /* Definition of color scheme for fitted estimators */\n",
       "  --sklearn-color-fitted-level-0: #f0f8ff;\n",
       "  --sklearn-color-fitted-level-1: #d4ebff;\n",
       "  --sklearn-color-fitted-level-2: #b3dbfd;\n",
       "  --sklearn-color-fitted-level-3: cornflowerblue;\n",
       "\n",
       "  /* Specific color for light theme */\n",
       "  --sklearn-color-text-on-default-background: var(--sg-text-color, var(--theme-code-foreground, var(--jp-content-font-color1, black)));\n",
       "  --sklearn-color-background: var(--sg-background-color, var(--theme-background, var(--jp-layout-color0, white)));\n",
       "  --sklearn-color-border-box: var(--sg-text-color, var(--theme-code-foreground, var(--jp-content-font-color1, black)));\n",
       "  --sklearn-color-icon: #696969;\n",
       "\n",
       "  @media (prefers-color-scheme: dark) {\n",
       "    /* Redefinition of color scheme for dark theme */\n",
       "    --sklearn-color-text-on-default-background: var(--sg-text-color, var(--theme-code-foreground, var(--jp-content-font-color1, white)));\n",
       "    --sklearn-color-background: var(--sg-background-color, var(--theme-background, var(--jp-layout-color0, #111)));\n",
       "    --sklearn-color-border-box: var(--sg-text-color, var(--theme-code-foreground, var(--jp-content-font-color1, white)));\n",
       "    --sklearn-color-icon: #878787;\n",
       "  }\n",
       "}\n",
       "\n",
       "#sk-container-id-2 {\n",
       "  color: var(--sklearn-color-text);\n",
       "}\n",
       "\n",
       "#sk-container-id-2 pre {\n",
       "  padding: 0;\n",
       "}\n",
       "\n",
       "#sk-container-id-2 input.sk-hidden--visually {\n",
       "  border: 0;\n",
       "  clip: rect(1px 1px 1px 1px);\n",
       "  clip: rect(1px, 1px, 1px, 1px);\n",
       "  height: 1px;\n",
       "  margin: -1px;\n",
       "  overflow: hidden;\n",
       "  padding: 0;\n",
       "  position: absolute;\n",
       "  width: 1px;\n",
       "}\n",
       "\n",
       "#sk-container-id-2 div.sk-dashed-wrapped {\n",
       "  border: 1px dashed var(--sklearn-color-line);\n",
       "  margin: 0 0.4em 0.5em 0.4em;\n",
       "  box-sizing: border-box;\n",
       "  padding-bottom: 0.4em;\n",
       "  background-color: var(--sklearn-color-background);\n",
       "}\n",
       "\n",
       "#sk-container-id-2 div.sk-container {\n",
       "  /* jupyter's `normalize.less` sets `[hidden] { display: none; }`\n",
       "     but bootstrap.min.css set `[hidden] { display: none !important; }`\n",
       "     so we also need the `!important` here to be able to override the\n",
       "     default hidden behavior on the sphinx rendered scikit-learn.org.\n",
       "     See: https://github.com/scikit-learn/scikit-learn/issues/21755 */\n",
       "  display: inline-block !important;\n",
       "  position: relative;\n",
       "}\n",
       "\n",
       "#sk-container-id-2 div.sk-text-repr-fallback {\n",
       "  display: none;\n",
       "}\n",
       "\n",
       "div.sk-parallel-item,\n",
       "div.sk-serial,\n",
       "div.sk-item {\n",
       "  /* draw centered vertical line to link estimators */\n",
       "  background-image: linear-gradient(var(--sklearn-color-text-on-default-background), var(--sklearn-color-text-on-default-background));\n",
       "  background-size: 2px 100%;\n",
       "  background-repeat: no-repeat;\n",
       "  background-position: center center;\n",
       "}\n",
       "\n",
       "/* Parallel-specific style estimator block */\n",
       "\n",
       "#sk-container-id-2 div.sk-parallel-item::after {\n",
       "  content: \"\";\n",
       "  width: 100%;\n",
       "  border-bottom: 2px solid var(--sklearn-color-text-on-default-background);\n",
       "  flex-grow: 1;\n",
       "}\n",
       "\n",
       "#sk-container-id-2 div.sk-parallel {\n",
       "  display: flex;\n",
       "  align-items: stretch;\n",
       "  justify-content: center;\n",
       "  background-color: var(--sklearn-color-background);\n",
       "  position: relative;\n",
       "}\n",
       "\n",
       "#sk-container-id-2 div.sk-parallel-item {\n",
       "  display: flex;\n",
       "  flex-direction: column;\n",
       "}\n",
       "\n",
       "#sk-container-id-2 div.sk-parallel-item:first-child::after {\n",
       "  align-self: flex-end;\n",
       "  width: 50%;\n",
       "}\n",
       "\n",
       "#sk-container-id-2 div.sk-parallel-item:last-child::after {\n",
       "  align-self: flex-start;\n",
       "  width: 50%;\n",
       "}\n",
       "\n",
       "#sk-container-id-2 div.sk-parallel-item:only-child::after {\n",
       "  width: 0;\n",
       "}\n",
       "\n",
       "/* Serial-specific style estimator block */\n",
       "\n",
       "#sk-container-id-2 div.sk-serial {\n",
       "  display: flex;\n",
       "  flex-direction: column;\n",
       "  align-items: center;\n",
       "  background-color: var(--sklearn-color-background);\n",
       "  padding-right: 1em;\n",
       "  padding-left: 1em;\n",
       "}\n",
       "\n",
       "\n",
       "/* Toggleable style: style used for estimator/Pipeline/ColumnTransformer box that is\n",
       "clickable and can be expanded/collapsed.\n",
       "- Pipeline and ColumnTransformer use this feature and define the default style\n",
       "- Estimators will overwrite some part of the style using the `sk-estimator` class\n",
       "*/\n",
       "\n",
       "/* Pipeline and ColumnTransformer style (default) */\n",
       "\n",
       "#sk-container-id-2 div.sk-toggleable {\n",
       "  /* Default theme specific background. It is overwritten whether we have a\n",
       "  specific estimator or a Pipeline/ColumnTransformer */\n",
       "  background-color: var(--sklearn-color-background);\n",
       "}\n",
       "\n",
       "/* Toggleable label */\n",
       "#sk-container-id-2 label.sk-toggleable__label {\n",
       "  cursor: pointer;\n",
       "  display: block;\n",
       "  width: 100%;\n",
       "  margin-bottom: 0;\n",
       "  padding: 0.5em;\n",
       "  box-sizing: border-box;\n",
       "  text-align: center;\n",
       "}\n",
       "\n",
       "#sk-container-id-2 label.sk-toggleable__label-arrow:before {\n",
       "  /* Arrow on the left of the label */\n",
       "  content: \"▸\";\n",
       "  float: left;\n",
       "  margin-right: 0.25em;\n",
       "  color: var(--sklearn-color-icon);\n",
       "}\n",
       "\n",
       "#sk-container-id-2 label.sk-toggleable__label-arrow:hover:before {\n",
       "  color: var(--sklearn-color-text);\n",
       "}\n",
       "\n",
       "/* Toggleable content - dropdown */\n",
       "\n",
       "#sk-container-id-2 div.sk-toggleable__content {\n",
       "  max-height: 0;\n",
       "  max-width: 0;\n",
       "  overflow: hidden;\n",
       "  text-align: left;\n",
       "  /* unfitted */\n",
       "  background-color: var(--sklearn-color-unfitted-level-0);\n",
       "}\n",
       "\n",
       "#sk-container-id-2 div.sk-toggleable__content.fitted {\n",
       "  /* fitted */\n",
       "  background-color: var(--sklearn-color-fitted-level-0);\n",
       "}\n",
       "\n",
       "#sk-container-id-2 div.sk-toggleable__content pre {\n",
       "  margin: 0.2em;\n",
       "  border-radius: 0.25em;\n",
       "  color: var(--sklearn-color-text);\n",
       "  /* unfitted */\n",
       "  background-color: var(--sklearn-color-unfitted-level-0);\n",
       "}\n",
       "\n",
       "#sk-container-id-2 div.sk-toggleable__content.fitted pre {\n",
       "  /* unfitted */\n",
       "  background-color: var(--sklearn-color-fitted-level-0);\n",
       "}\n",
       "\n",
       "#sk-container-id-2 input.sk-toggleable__control:checked~div.sk-toggleable__content {\n",
       "  /* Expand drop-down */\n",
       "  max-height: 200px;\n",
       "  max-width: 100%;\n",
       "  overflow: auto;\n",
       "}\n",
       "\n",
       "#sk-container-id-2 input.sk-toggleable__control:checked~label.sk-toggleable__label-arrow:before {\n",
       "  content: \"▾\";\n",
       "}\n",
       "\n",
       "/* Pipeline/ColumnTransformer-specific style */\n",
       "\n",
       "#sk-container-id-2 div.sk-label input.sk-toggleable__control:checked~label.sk-toggleable__label {\n",
       "  color: var(--sklearn-color-text);\n",
       "  background-color: var(--sklearn-color-unfitted-level-2);\n",
       "}\n",
       "\n",
       "#sk-container-id-2 div.sk-label.fitted input.sk-toggleable__control:checked~label.sk-toggleable__label {\n",
       "  background-color: var(--sklearn-color-fitted-level-2);\n",
       "}\n",
       "\n",
       "/* Estimator-specific style */\n",
       "\n",
       "/* Colorize estimator box */\n",
       "#sk-container-id-2 div.sk-estimator input.sk-toggleable__control:checked~label.sk-toggleable__label {\n",
       "  /* unfitted */\n",
       "  background-color: var(--sklearn-color-unfitted-level-2);\n",
       "}\n",
       "\n",
       "#sk-container-id-2 div.sk-estimator.fitted input.sk-toggleable__control:checked~label.sk-toggleable__label {\n",
       "  /* fitted */\n",
       "  background-color: var(--sklearn-color-fitted-level-2);\n",
       "}\n",
       "\n",
       "#sk-container-id-2 div.sk-label label.sk-toggleable__label,\n",
       "#sk-container-id-2 div.sk-label label {\n",
       "  /* The background is the default theme color */\n",
       "  color: var(--sklearn-color-text-on-default-background);\n",
       "}\n",
       "\n",
       "/* On hover, darken the color of the background */\n",
       "#sk-container-id-2 div.sk-label:hover label.sk-toggleable__label {\n",
       "  color: var(--sklearn-color-text);\n",
       "  background-color: var(--sklearn-color-unfitted-level-2);\n",
       "}\n",
       "\n",
       "/* Label box, darken color on hover, fitted */\n",
       "#sk-container-id-2 div.sk-label.fitted:hover label.sk-toggleable__label.fitted {\n",
       "  color: var(--sklearn-color-text);\n",
       "  background-color: var(--sklearn-color-fitted-level-2);\n",
       "}\n",
       "\n",
       "/* Estimator label */\n",
       "\n",
       "#sk-container-id-2 div.sk-label label {\n",
       "  font-family: monospace;\n",
       "  font-weight: bold;\n",
       "  display: inline-block;\n",
       "  line-height: 1.2em;\n",
       "}\n",
       "\n",
       "#sk-container-id-2 div.sk-label-container {\n",
       "  text-align: center;\n",
       "}\n",
       "\n",
       "/* Estimator-specific */\n",
       "#sk-container-id-2 div.sk-estimator {\n",
       "  font-family: monospace;\n",
       "  border: 1px dotted var(--sklearn-color-border-box);\n",
       "  border-radius: 0.25em;\n",
       "  box-sizing: border-box;\n",
       "  margin-bottom: 0.5em;\n",
       "  /* unfitted */\n",
       "  background-color: var(--sklearn-color-unfitted-level-0);\n",
       "}\n",
       "\n",
       "#sk-container-id-2 div.sk-estimator.fitted {\n",
       "  /* fitted */\n",
       "  background-color: var(--sklearn-color-fitted-level-0);\n",
       "}\n",
       "\n",
       "/* on hover */\n",
       "#sk-container-id-2 div.sk-estimator:hover {\n",
       "  /* unfitted */\n",
       "  background-color: var(--sklearn-color-unfitted-level-2);\n",
       "}\n",
       "\n",
       "#sk-container-id-2 div.sk-estimator.fitted:hover {\n",
       "  /* fitted */\n",
       "  background-color: var(--sklearn-color-fitted-level-2);\n",
       "}\n",
       "\n",
       "/* Specification for estimator info (e.g. \"i\" and \"?\") */\n",
       "\n",
       "/* Common style for \"i\" and \"?\" */\n",
       "\n",
       ".sk-estimator-doc-link,\n",
       "a:link.sk-estimator-doc-link,\n",
       "a:visited.sk-estimator-doc-link {\n",
       "  float: right;\n",
       "  font-size: smaller;\n",
       "  line-height: 1em;\n",
       "  font-family: monospace;\n",
       "  background-color: var(--sklearn-color-background);\n",
       "  border-radius: 1em;\n",
       "  height: 1em;\n",
       "  width: 1em;\n",
       "  text-decoration: none !important;\n",
       "  margin-left: 1ex;\n",
       "  /* unfitted */\n",
       "  border: var(--sklearn-color-unfitted-level-1) 1pt solid;\n",
       "  color: var(--sklearn-color-unfitted-level-1);\n",
       "}\n",
       "\n",
       ".sk-estimator-doc-link.fitted,\n",
       "a:link.sk-estimator-doc-link.fitted,\n",
       "a:visited.sk-estimator-doc-link.fitted {\n",
       "  /* fitted */\n",
       "  border: var(--sklearn-color-fitted-level-1) 1pt solid;\n",
       "  color: var(--sklearn-color-fitted-level-1);\n",
       "}\n",
       "\n",
       "/* On hover */\n",
       "div.sk-estimator:hover .sk-estimator-doc-link:hover,\n",
       ".sk-estimator-doc-link:hover,\n",
       "div.sk-label-container:hover .sk-estimator-doc-link:hover,\n",
       ".sk-estimator-doc-link:hover {\n",
       "  /* unfitted */\n",
       "  background-color: var(--sklearn-color-unfitted-level-3);\n",
       "  color: var(--sklearn-color-background);\n",
       "  text-decoration: none;\n",
       "}\n",
       "\n",
       "div.sk-estimator.fitted:hover .sk-estimator-doc-link.fitted:hover,\n",
       ".sk-estimator-doc-link.fitted:hover,\n",
       "div.sk-label-container:hover .sk-estimator-doc-link.fitted:hover,\n",
       ".sk-estimator-doc-link.fitted:hover {\n",
       "  /* fitted */\n",
       "  background-color: var(--sklearn-color-fitted-level-3);\n",
       "  color: var(--sklearn-color-background);\n",
       "  text-decoration: none;\n",
       "}\n",
       "\n",
       "/* Span, style for the box shown on hovering the info icon */\n",
       ".sk-estimator-doc-link span {\n",
       "  display: none;\n",
       "  z-index: 9999;\n",
       "  position: relative;\n",
       "  font-weight: normal;\n",
       "  right: .2ex;\n",
       "  padding: .5ex;\n",
       "  margin: .5ex;\n",
       "  width: min-content;\n",
       "  min-width: 20ex;\n",
       "  max-width: 50ex;\n",
       "  color: var(--sklearn-color-text);\n",
       "  box-shadow: 2pt 2pt 4pt #999;\n",
       "  /* unfitted */\n",
       "  background: var(--sklearn-color-unfitted-level-0);\n",
       "  border: .5pt solid var(--sklearn-color-unfitted-level-3);\n",
       "}\n",
       "\n",
       ".sk-estimator-doc-link.fitted span {\n",
       "  /* fitted */\n",
       "  background: var(--sklearn-color-fitted-level-0);\n",
       "  border: var(--sklearn-color-fitted-level-3);\n",
       "}\n",
       "\n",
       ".sk-estimator-doc-link:hover span {\n",
       "  display: block;\n",
       "}\n",
       "\n",
       "/* \"?\"-specific style due to the `<a>` HTML tag */\n",
       "\n",
       "#sk-container-id-2 a.estimator_doc_link {\n",
       "  float: right;\n",
       "  font-size: 1rem;\n",
       "  line-height: 1em;\n",
       "  font-family: monospace;\n",
       "  background-color: var(--sklearn-color-background);\n",
       "  border-radius: 1rem;\n",
       "  height: 1rem;\n",
       "  width: 1rem;\n",
       "  text-decoration: none;\n",
       "  /* unfitted */\n",
       "  color: var(--sklearn-color-unfitted-level-1);\n",
       "  border: var(--sklearn-color-unfitted-level-1) 1pt solid;\n",
       "}\n",
       "\n",
       "#sk-container-id-2 a.estimator_doc_link.fitted {\n",
       "  /* fitted */\n",
       "  border: var(--sklearn-color-fitted-level-1) 1pt solid;\n",
       "  color: var(--sklearn-color-fitted-level-1);\n",
       "}\n",
       "\n",
       "/* On hover */\n",
       "#sk-container-id-2 a.estimator_doc_link:hover {\n",
       "  /* unfitted */\n",
       "  background-color: var(--sklearn-color-unfitted-level-3);\n",
       "  color: var(--sklearn-color-background);\n",
       "  text-decoration: none;\n",
       "}\n",
       "\n",
       "#sk-container-id-2 a.estimator_doc_link.fitted:hover {\n",
       "  /* fitted */\n",
       "  background-color: var(--sklearn-color-fitted-level-3);\n",
       "}\n",
       "</style><div id=\"sk-container-id-2\" class=\"sk-top-container\"><div class=\"sk-text-repr-fallback\"><pre>GridSearchCV(cv=5,\n",
       "             estimator=Pipeline(steps=[(&#x27;preprocessor&#x27;,\n",
       "                                        ColumnTransformer(remainder=&#x27;passthrough&#x27;,\n",
       "                                                          transformers=[(&#x27;cat&#x27;,\n",
       "                                                                         OneHotEncoder(handle_unknown=&#x27;ignore&#x27;),\n",
       "                                                                         [&#x27;Franja_Horaria&#x27;,\n",
       "                                                                          &#x27;AC&#x27;,\n",
       "                                                                          &#x27;Estacion_Ano&#x27;])])),\n",
       "                                       (&#x27;classifier&#x27;,\n",
       "                                        RandomForestClassifier(random_state=42))]),\n",
       "             n_jobs=-1,\n",
       "             param_grid={&#x27;classifier__max_depth&#x27;: [10, 20, None],\n",
       "                         &#x27;classifier__min_samples_leaf&#x27;: [1, 2],\n",
       "                         &#x27;classifier__n_estimators&#x27;: [50, 100]},\n",
       "             scoring=&#x27;roc_auc&#x27;, verbose=1)</pre><b>In a Jupyter environment, please rerun this cell to show the HTML representation or trust the notebook. <br />On GitHub, the HTML representation is unable to render, please try loading this page with nbviewer.org.</b></div><div class=\"sk-container\" hidden><div class=\"sk-item sk-dashed-wrapped\"><div class=\"sk-label-container\"><div class=\"sk-label fitted sk-toggleable\"><input class=\"sk-toggleable__control sk-hidden--visually\" id=\"sk-estimator-id-9\" type=\"checkbox\" ><label for=\"sk-estimator-id-9\" class=\"sk-toggleable__label fitted sk-toggleable__label-arrow fitted\">&nbsp;&nbsp;GridSearchCV<a class=\"sk-estimator-doc-link fitted\" rel=\"noreferrer\" target=\"_blank\" href=\"https://scikit-learn.org/1.5/modules/generated/sklearn.model_selection.GridSearchCV.html\">?<span>Documentation for GridSearchCV</span></a><span class=\"sk-estimator-doc-link fitted\">i<span>Fitted</span></span></label><div class=\"sk-toggleable__content fitted\"><pre>GridSearchCV(cv=5,\n",
       "             estimator=Pipeline(steps=[(&#x27;preprocessor&#x27;,\n",
       "                                        ColumnTransformer(remainder=&#x27;passthrough&#x27;,\n",
       "                                                          transformers=[(&#x27;cat&#x27;,\n",
       "                                                                         OneHotEncoder(handle_unknown=&#x27;ignore&#x27;),\n",
       "                                                                         [&#x27;Franja_Horaria&#x27;,\n",
       "                                                                          &#x27;AC&#x27;,\n",
       "                                                                          &#x27;Estacion_Ano&#x27;])])),\n",
       "                                       (&#x27;classifier&#x27;,\n",
       "                                        RandomForestClassifier(random_state=42))]),\n",
       "             n_jobs=-1,\n",
       "             param_grid={&#x27;classifier__max_depth&#x27;: [10, 20, None],\n",
       "                         &#x27;classifier__min_samples_leaf&#x27;: [1, 2],\n",
       "                         &#x27;classifier__n_estimators&#x27;: [50, 100]},\n",
       "             scoring=&#x27;roc_auc&#x27;, verbose=1)</pre></div> </div></div><div class=\"sk-parallel\"><div class=\"sk-parallel-item\"><div class=\"sk-item\"><div class=\"sk-label-container\"><div class=\"sk-label fitted sk-toggleable\"><input class=\"sk-toggleable__control sk-hidden--visually\" id=\"sk-estimator-id-10\" type=\"checkbox\" ><label for=\"sk-estimator-id-10\" class=\"sk-toggleable__label fitted sk-toggleable__label-arrow fitted\">best_estimator_: Pipeline</label><div class=\"sk-toggleable__content fitted\"><pre>Pipeline(steps=[(&#x27;preprocessor&#x27;,\n",
       "                 ColumnTransformer(remainder=&#x27;passthrough&#x27;,\n",
       "                                   transformers=[(&#x27;cat&#x27;,\n",
       "                                                  OneHotEncoder(handle_unknown=&#x27;ignore&#x27;),\n",
       "                                                  [&#x27;Franja_Horaria&#x27;, &#x27;AC&#x27;,\n",
       "                                                   &#x27;Estacion_Ano&#x27;])])),\n",
       "                (&#x27;classifier&#x27;,\n",
       "                 RandomForestClassifier(max_depth=10, n_estimators=50,\n",
       "                                        random_state=42))])</pre></div> </div></div><div class=\"sk-serial\"><div class=\"sk-item\"><div class=\"sk-serial\"><div class=\"sk-item sk-dashed-wrapped\"><div class=\"sk-label-container\"><div class=\"sk-label fitted sk-toggleable\"><input class=\"sk-toggleable__control sk-hidden--visually\" id=\"sk-estimator-id-11\" type=\"checkbox\" ><label for=\"sk-estimator-id-11\" class=\"sk-toggleable__label fitted sk-toggleable__label-arrow fitted\">&nbsp;preprocessor: ColumnTransformer<a class=\"sk-estimator-doc-link fitted\" rel=\"noreferrer\" target=\"_blank\" href=\"https://scikit-learn.org/1.5/modules/generated/sklearn.compose.ColumnTransformer.html\">?<span>Documentation for preprocessor: ColumnTransformer</span></a></label><div class=\"sk-toggleable__content fitted\"><pre>ColumnTransformer(remainder=&#x27;passthrough&#x27;,\n",
       "                  transformers=[(&#x27;cat&#x27;, OneHotEncoder(handle_unknown=&#x27;ignore&#x27;),\n",
       "                                 [&#x27;Franja_Horaria&#x27;, &#x27;AC&#x27;, &#x27;Estacion_Ano&#x27;])])</pre></div> </div></div><div class=\"sk-parallel\"><div class=\"sk-parallel-item\"><div class=\"sk-item\"><div class=\"sk-label-container\"><div class=\"sk-label fitted sk-toggleable\"><input class=\"sk-toggleable__control sk-hidden--visually\" id=\"sk-estimator-id-12\" type=\"checkbox\" ><label for=\"sk-estimator-id-12\" class=\"sk-toggleable__label fitted sk-toggleable__label-arrow fitted\">cat</label><div class=\"sk-toggleable__content fitted\"><pre>[&#x27;Franja_Horaria&#x27;, &#x27;AC&#x27;, &#x27;Estacion_Ano&#x27;]</pre></div> </div></div><div class=\"sk-serial\"><div class=\"sk-item\"><div class=\"sk-estimator fitted sk-toggleable\"><input class=\"sk-toggleable__control sk-hidden--visually\" id=\"sk-estimator-id-13\" type=\"checkbox\" ><label for=\"sk-estimator-id-13\" class=\"sk-toggleable__label fitted sk-toggleable__label-arrow fitted\">&nbsp;OneHotEncoder<a class=\"sk-estimator-doc-link fitted\" rel=\"noreferrer\" target=\"_blank\" href=\"https://scikit-learn.org/1.5/modules/generated/sklearn.preprocessing.OneHotEncoder.html\">?<span>Documentation for OneHotEncoder</span></a></label><div class=\"sk-toggleable__content fitted\"><pre>OneHotEncoder(handle_unknown=&#x27;ignore&#x27;)</pre></div> </div></div></div></div></div><div class=\"sk-parallel-item\"><div class=\"sk-item\"><div class=\"sk-label-container\"><div class=\"sk-label fitted sk-toggleable\"><input class=\"sk-toggleable__control sk-hidden--visually\" id=\"sk-estimator-id-14\" type=\"checkbox\" ><label for=\"sk-estimator-id-14\" class=\"sk-toggleable__label fitted sk-toggleable__label-arrow fitted\">remainder</label><div class=\"sk-toggleable__content fitted\"><pre>[&#x27;Minutos&#x27;, &#x27;Total_Vuelos&#x27;, &#x27;Hora&#x27;]</pre></div> </div></div><div class=\"sk-serial\"><div class=\"sk-item\"><div class=\"sk-estimator fitted sk-toggleable\"><input class=\"sk-toggleable__control sk-hidden--visually\" id=\"sk-estimator-id-15\" type=\"checkbox\" ><label for=\"sk-estimator-id-15\" class=\"sk-toggleable__label fitted sk-toggleable__label-arrow fitted\">passthrough</label><div class=\"sk-toggleable__content fitted\"><pre>passthrough</pre></div> </div></div></div></div></div></div></div><div class=\"sk-item\"><div class=\"sk-estimator fitted sk-toggleable\"><input class=\"sk-toggleable__control sk-hidden--visually\" id=\"sk-estimator-id-16\" type=\"checkbox\" ><label for=\"sk-estimator-id-16\" class=\"sk-toggleable__label fitted sk-toggleable__label-arrow fitted\">&nbsp;RandomForestClassifier<a class=\"sk-estimator-doc-link fitted\" rel=\"noreferrer\" target=\"_blank\" href=\"https://scikit-learn.org/1.5/modules/generated/sklearn.ensemble.RandomForestClassifier.html\">?<span>Documentation for RandomForestClassifier</span></a></label><div class=\"sk-toggleable__content fitted\"><pre>RandomForestClassifier(max_depth=10, n_estimators=50, random_state=42)</pre></div> </div></div></div></div></div></div></div></div></div></div></div>"
      ],
      "text/plain": [
       "GridSearchCV(cv=5,\n",
       "             estimator=Pipeline(steps=[('preprocessor',\n",
       "                                        ColumnTransformer(remainder='passthrough',\n",
       "                                                          transformers=[('cat',\n",
       "                                                                         OneHotEncoder(handle_unknown='ignore'),\n",
       "                                                                         ['Franja_Horaria',\n",
       "                                                                          'AC',\n",
       "                                                                          'Estacion_Ano'])])),\n",
       "                                       ('classifier',\n",
       "                                        RandomForestClassifier(random_state=42))]),\n",
       "             n_jobs=-1,\n",
       "             param_grid={'classifier__max_depth': [10, 20, None],\n",
       "                         'classifier__min_samples_leaf': [1, 2],\n",
       "                         'classifier__n_estimators': [50, 100]},\n",
       "             scoring='roc_auc', verbose=1)"
      ]
     },
     "execution_count": 81,
     "metadata": {},
     "output_type": "execute_result"
    }
   ],
   "source": [
    "# Configurar GridSearchCV\n",
    "# Busca los mejores hiperparámetros basados en el conjunto de entrenamiento y validación cruzada.\n",
    "grid_search = GridSearchCV(\n",
    "    estimator=rf_pipeline, # Pipeline con preprocesador y modelo\n",
    "    param_grid=param_grid, # Hiperparámetros a probar\n",
    "    cv=5, # 5 pliegues\n",
    "    scoring='roc_auc', # evaluación con roc\n",
    "    verbose=1,\n",
    "    n_jobs=-1\n",
    ")\n",
    "\n",
    "# Ajustar el modelo en el conjunto de entrenamiento\n",
    "grid_search.fit(X_train, y_train)"
   ]
  },
  {
   "cell_type": "code",
   "execution_count": 82,
   "metadata": {},
   "outputs": [],
   "source": [
    "# Mejor modelo y parámetros\n",
    "best_model = grid_search.best_estimator_ # Modelo optimizado con los mejores hiperparámetros\n",
    "best_params = grid_search.best_params_ # Los valores óptimos de los hiperparámetros\n",
    "best_score = grid_search.best_score_ # El mejor puntaje ROC-AUC obtenido en validación cruzada"
   ]
  },
  {
   "cell_type": "code",
   "execution_count": 83,
   "metadata": {},
   "outputs": [],
   "source": [
    "# Evaluar el modelo optimizado en el conjunto de validación y prueba\n",
    "y_val_pred_proba = best_model.predict_proba(X_val)[:, 1]\n",
    "val_roc_auc = roc_auc_score(y_val, y_val_pred_proba)\n",
    "\n",
    "y_test_pred_proba = best_model.predict_proba(X_test)[:, 1]\n",
    "test_roc_auc = roc_auc_score(y_test, y_test_pred_proba)"
   ]
  },
  {
   "cell_type": "code",
   "execution_count": 84,
   "metadata": {},
   "outputs": [
    {
     "name": "stdout",
     "output_type": "stream",
     "text": [
      "Mejores hiperparámetros: {'classifier__max_depth': 10, 'classifier__min_samples_leaf': 1, 'classifier__n_estimators': 50}\n",
      "ROC-AUC (Validación): 0.9806\n",
      "ROC-AUC (Test): 0.9828\n"
     ]
    }
   ],
   "source": [
    "print(f\"Mejores hiperparámetros: {best_params}\")\n",
    "print(f\"ROC-AUC (Validación): {val_roc_auc:.4f}\")\n",
    "print(f\"ROC-AUC (Test): {test_roc_auc:.4f}\")"
   ]
  },
  {
   "cell_type": "code",
   "execution_count": 85,
   "metadata": {},
   "outputs": [
    {
     "name": "stdout",
     "output_type": "stream",
     "text": [
      "Falsos positivos: 0\n",
      "Falsos negativos: 16\n"
     ]
    }
   ],
   "source": [
    "# Realizar la predicción con el modelo optimizado\n",
    "y_test_pred = best_model.predict(X_test)\n",
    "y_test_pred_proba = best_model.predict_proba(X_test)[:, 1]  # Probabilidades si son necesarias\n",
    "\n",
    "# Verificar que las variables del conjunto de prueba existen\n",
    "X_test = X_test.copy()  # Aseguramos que X_test tiene todas las columnas necesarias\n",
    "X_test['Minutos'] = X['Minutos']\n",
    "X_test['Total_Vuelos'] = X['Total_Vuelos']\n",
    "X_test['AC'] = X['AC']\n",
    "X_test['Estacion_Ano'] = X['Estacion_Ano']\n",
    "\n",
    "# Crear el dataframe para errores\n",
    "errors = pd.DataFrame({\n",
    "    'Predicted': y_test_pred,\n",
    "    'Actual': y_test,\n",
    "    'Minutos': X_test['Minutos'],\n",
    "    'Total_Vuelos': X_test['Total_Vuelos'],\n",
    "    'AC': X_test['AC'],\n",
    "    'Estacion_Ano': X_test['Estacion_Ano']\n",
    "})\n",
    "\n",
    "# Filtrar falsos positivos y falsos negativos\n",
    "falsos_positivos = errors[(errors['Predicted'] == 1) & (errors['Actual'] == 0)]\n",
    "falsos_negativos = errors[(errors['Predicted'] == 0) & (errors['Actual'] == 1)]\n",
    "\n",
    "# Verificar los tamaños de los errores\n",
    "print(f\"Falsos positivos: {len(falsos_positivos)}\")\n",
    "print(f\"Falsos negativos: {len(falsos_negativos)}\")\n"
   ]
  },
  {
   "cell_type": "code",
   "execution_count": 86,
   "metadata": {},
   "outputs": [
    {
     "data": {
      "text/plain": [
       "<Figure size 1000x600 with 0 Axes>"
      ]
     },
     "metadata": {},
     "output_type": "display_data"
    },
    {
     "data": {
      "image/png": "[encoded data removed]",
      "text/plain": [
       "<Figure size 640x480 with 1 Axes>"
      ]
     },
     "metadata": {},
     "output_type": "display_data"
    }
   ],
   "source": [
    "# Visaliación del balance entre faltos positivos y verdadres positivos\n",
    "from sklearn.metrics import RocCurveDisplay\n",
    "\n",
    "# 1. Visualizar la curva ROC para el modelo optimizado\n",
    "plt.figure(figsize=(10, 6))\n",
    "roc_display = RocCurveDisplay.from_estimator(best_model, X_test, y_test)\n",
    "plt.title(\"Curva ROC para el Modelo Optimizado (Random Forest)\")\n",
    "plt.show()"
   ]
  },
  {
   "cell_type": "code",
   "execution_count": 87,
   "metadata": {},
   "outputs": [],
   "source": [
    "# 2. Consolidar resultados del modelo optimizado\n",
    "metrics_report = classification_report(y_test, y_test_pred, output_dict=True)\n",
    "metrics_df = pd.DataFrame(metrics_report).transpose()"
   ]
  },
  {
   "cell_type": "code",
   "execution_count": 88,
   "metadata": {},
   "outputs": [],
   "source": [
    "# Reporte de métricas clave\n",
    "final_report = {\n",
    "    \"Mejores Hiperparámetros\": best_params,\n",
    "    \"ROC-AUC (Validación)\": best_score,\n",
    "    \"ROC-AUC (Prueba)\": roc_auc_score(y_test, y_test_pred_proba),\n",
    "    \"Reporte de Clasificación\": metrics_df\n",
    "}"
   ]
  },
  {
   "cell_type": "code",
   "execution_count": 91,
   "metadata": {},
   "outputs": [
    {
     "name": "stdout",
     "output_type": "stream",
     "text": [
      "Reporte Consolidado de Métricas (Random Forest):\n",
      "              precision    recall  f1-score       support\n",
      "0              0.999467  1.000000  0.999733  29998.000000\n",
      "1              1.000000  0.967807  0.983640    497.000000\n",
      "accuracy       0.999475  0.999475  0.999475      0.999475\n",
      "macro avg      0.999733  0.983903  0.991687  30495.000000\n",
      "weighted avg   0.999476  0.999475  0.999471  30495.000000\n",
      "\n",
      "Resumen de Hiperparámetros y Métricas Clave:\n",
      "Mejores Hiperparámetros: {'classifier__max_depth': 10, 'classifier__min_samples_leaf': 1, 'classifier__n_estimators': 50}\n",
      "ROC-AUC Validación: 0.9827\n",
      "ROC-AUC Prueba: 0.9828\n"
     ]
    }
   ],
   "source": [
    "# Reporte de métricas \n",
    "print(\"Reporte Consolidado de Métricas (Random Forest):\")\n",
    "print(metrics_df)\n",
    "\n",
    "# Resumen de los hiperparámetros y métricas clave\n",
    "print(\"\\nResumen de Hiperparámetros y Métricas Clave:\")\n",
    "print(f\"Mejores Hiperparámetros: {best_params}\")\n",
    "print(f\"ROC-AUC Validación: {best_score:.4f}\")\n",
    "print(f\"ROC-AUC Prueba: {roc_auc_score(y_test, y_test_pred_proba):.4f}\")\n"
   ]
  },
  {
   "cell_type": "code",
   "execution_count": null,
   "metadata": {},
   "outputs": [
    {
     "data": {
      "image/png": "[encoded data removed]",
      "text/plain": [
       "<Figure size 1000x600 with 1 Axes>"
      ]
     },
     "metadata": {},
     "output_type": "display_data"
    }
   ],
   "source": [
    "# Gráfico de Precision, Recall y F1-score por clase\n",
    "metrics_df[['precision', 'recall', 'f1-score']].iloc[:2].plot(kind='bar', figsize=(10, 6))\n",
    "plt.title(\"Precision, Recall y F1-score por Clase\")\n",
    "plt.ylabel(\"Métrica\")\n",
    "plt.xlabel(\"Clase\")\n",
    "plt.xticks(ticks=[0, 1], labels=['Sin Avería (0)', 'Con Avería (1)'], rotation=0)\n",
    "plt.legend(title=\"Métricas\")\n",
    "plt.show()"
   ]
  },
  {
   "cell_type": "code",
   "execution_count": 94,
   "metadata": {},
   "outputs": [],
   "source": [
    "import joblib"
   ]
  },
  {
   "cell_type": "code",
   "execution_count": 95,
   "metadata": {},
   "outputs": [
    {
     "name": "stdout",
     "output_type": "stream",
     "text": [
      "Modelo guardado como 'best_rf_model.pkl' en la carpeta actual.\n"
     ]
    }
   ],
   "source": [
    "# Guardar el modelo en la misma carpeta del script\n",
    "model_path = \"best_rf_model.pkl\"\n",
    "joblib.dump(best_model, model_path)\n",
    "print(f\"Modelo guardado como '{model_path}' en la carpeta actual.\")"
   ]
  },
  {
   "cell_type": "code",
   "execution_count": 96,
   "metadata": {},
   "outputs": [
    {
     "name": "stdout",
     "output_type": "stream",
     "text": [
      "Datos de prueba guardados en la carpeta 'data':\n",
      "- X_test.csv\n",
      "- y_test.csv\n"
     ]
    }
   ],
   "source": [
    "# Guardar el conjunto de prueba en archivos CSV\n",
    "X_test.to_csv(os.path.join(\"./data/X_test.csv\"), index=False)\n",
    "y_test.to_csv(os.path.join(\"./data/y_test.csv\"), index=False)\n",
    "\n",
    "print(\"Datos de prueba guardados en la carpeta 'data':\")\n",
    "print(\"- X_test.csv\")\n",
    "print(\"- y_test.csv\")"
   ]
  },
  {
   "cell_type": "markdown",
   "metadata": {},
   "source": [
    "#### Resmen de las acciones\n",
    "\n",
    "En esta parte hemos aplicado GirdsearchCV para buscar los mejores hiperparametros con la validación cruzada.\n",
    "La métrica nos dice la capacidad del Random Forest para distinguir entre las clases\n",
    "Conseguimos maximizar el rendimiento.\n",
    " "
   ]
  },
  {
   "cell_type": "markdown",
   "metadata": {},
   "source": [
    "### **Análisis de los Resultados**\n",
    "\n",
    "1. **Resultados generales:**\n",
    "   - Todos los modelos presentan un excelente rendimiento con métricas muy altas, reflejadas en valores de ROC-AUC cercanos a 0.98 y precisión global casi perfecta.\n",
    "   - Las principales diferencias entre los modelos son mínimas, por lo que se debe evaluar el contexto y la facilidad de interpretación para seleccionar el modelo óptimo.\n",
    "\n",
    "---\n",
    "\n",
    "2. **Resultados individuales:**\n",
    "\n",
    "   - **Logistic Regression:**\n",
    "     - **ROC-AUC (Validación cruzada):** 0.9840 (el más alto).\n",
    "     - **Matriz de confusión:** Identifica correctamente la mayoría de las averías, aunque tiene algunos falsos negativos (FN). \n",
    "     - **Precision y Recall:**\n",
    "       - Clase 1 (averías): `Recall = 0.92` significa que el modelo no detecta el 8% de las averías.\n",
    "       - Este modelo es más fácil de interpretar, ideal para entender qué variables están impulsando las predicciones.\n",
    "\n",
    "   - **Random Forest:**\n",
    "     - **ROC-AUC (Validación cruzada):** 0.9830.\n",
    "     - **Matriz de confusión:** Mejor recall para la clase 1 (`Recall = 0.96`), reduciendo los falsos negativos en comparación con Logistic Regression.\n",
    "     - Este modelo es robusto y puede capturar relaciones complejas, aunque es menos interpretable.\n",
    "\n",
    "   - **Gradient Boosting:**\n",
    "     - **ROC-AUC (Validación cruzada):** 0.9826 (el más bajo de los tres, pero aún excelente).\n",
    "     - **Matriz de confusión y Recall:** Similar a Random Forest (`Recall = 0.96`).\n",
    "     - Es un modelo potente para conjuntos de datos tabulares, pero requiere más tiempo de entrenamiento.\n",
    "\n",
    "---\n",
    "\n",
    "3. **Matriz de confusión para los tres modelos:**\n",
    "   - Clase 0 (sin averías):\n",
    "     - Todos los modelos tienen un rendimiento casi perfecto, clasificando correctamente la mayoría de los casos.\n",
    "   - Clase 1 (averías):\n",
    "     - **Logistic Regression:** Recall más bajo (92%), lo que significa que falla en detectar más averías.\n",
    "     - **Random Forest y Gradient Boosting:** Recall más alto (96%), detectando más averías, pero con mayor complejidad.\n"
   ]
  },
  {
   "cell_type": "markdown",
   "metadata": {},
   "source": []
  }
 ],
 "metadata": {
  "kernelspec": {
   "display_name": "Python 3",
   "language": "python",
   "name": "python3"
  },
  "language_info": {
   "codemirror_mode": {
    "name": "ipython",
    "version": 3
   },
   "file_extension": ".py",
   "mimetype": "text/x-python",
   "name": "python",
   "nbconvert_exporter": "python",
   "pygments_lexer": "ipython3",
   "version": "3.10.11"
  }
 },
 "nbformat": 4,
 "nbformat_minor": 2
}
