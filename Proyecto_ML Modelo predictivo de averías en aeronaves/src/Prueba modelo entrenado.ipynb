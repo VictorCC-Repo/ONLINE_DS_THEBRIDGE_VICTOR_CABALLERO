{
 "cells": [
  {
   "cell_type": "code",
   "execution_count": 8,
   "metadata": {},
   "outputs": [],
   "source": [
    "# 1. Importar librerías necesarias\n",
    "import joblib\n",
    "import pandas as pd\n",
    "from sklearn.metrics import classification_report, roc_auc_score\n",
    "from sklearn.metrics import classification_report, roc_auc_score"
   ]
  },
  {
   "cell_type": "code",
   "execution_count": 9,
   "metadata": {},
   "outputs": [
    {
     "name": "stdout",
     "output_type": "stream",
     "text": [
      "Modelo cargado con éxito desde la carpeta actual.\n"
     ]
    }
   ],
   "source": [
    "# Cargar el modelo desde la carpeta actual\n",
    "model_path = \"best_rf_model.pkl\"\n",
    "modelo_cargado = joblib.load(model_path)\n",
    "print(\"Modelo cargado con éxito desde la carpeta actual.\")"
   ]
  },
  {
   "cell_type": "code",
   "execution_count": 10,
   "metadata": {},
   "outputs": [],
   "source": [
    "# Cargar los datos de prueba\n",
    "X_test = pd.read_csv(\"data/X_test.csv\")\n",
    "y_test = pd.read_csv(\"data/y_test.csv\").squeeze()  # Convertir a Serie para usar como etiqueta"
   ]
  },
  {
   "cell_type": "code",
   "execution_count": 11,
   "metadata": {},
   "outputs": [],
   "source": [
    "# Hacer predicciones con el modelo cargado\n",
    "y_test_pred = modelo_cargado.predict(X_test)\n",
    "y_test_pred_proba = modelo_cargado.predict_proba(X_test)[:, 1]"
   ]
  },
  {
   "cell_type": "code",
   "execution_count": 13,
   "metadata": {},
   "outputs": [
    {
     "name": "stdout",
     "output_type": "stream",
     "text": [
      "Reporte de Clasificación:\n",
      "              precision    recall  f1-score   support\n",
      "\n",
      "           0       1.00      1.00      1.00     29998\n",
      "           1       1.00      0.97      0.98       497\n",
      "\n",
      "    accuracy                           1.00     30495\n",
      "   macro avg       1.00      0.98      0.99     30495\n",
      "weighted avg       1.00      1.00      1.00     30495\n",
      "\n"
     ]
    }
   ],
   "source": [
    "print(\"Reporte de Clasificación:\")\n",
    "print(classification_report(y_test, y_test_pred))"
   ]
  },
  {
   "cell_type": "code",
   "execution_count": 14,
   "metadata": {},
   "outputs": [
    {
     "name": "stdout",
     "output_type": "stream",
     "text": [
      "ROC-AUC Score en Test: 0.9828486889065575\n"
     ]
    }
   ],
   "source": [
    "print(\"ROC-AUC Score en Test:\", roc_auc_score(y_test, y_test_pred_proba))"
   ]
  },
  {
   "cell_type": "code",
   "execution_count": null,
   "metadata": {},
   "outputs": [],
   "source": []
  }
 ],
 "metadata": {
  "kernelspec": {
   "display_name": "Python 3",
   "language": "python",
   "name": "python3"
  },
  "language_info": {
   "codemirror_mode": {
    "name": "ipython",
    "version": 3
   },
   "file_extension": ".py",
   "mimetype": "text/x-python",
   "name": "python",
   "nbconvert_exporter": "python",
   "pygments_lexer": "ipython3",
   "version": "3.10.11"
  }
 },
 "nbformat": 4,
 "nbformat_minor": 2
}
