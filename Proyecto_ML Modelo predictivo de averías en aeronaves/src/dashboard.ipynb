{
 "cells": [
  {
   "cell_type": "code",
   "execution_count": 39,
   "metadata": {},
   "outputs": [
    {
     "name": "stdout",
     "output_type": "stream",
     "text": [
      "Requirement already satisfied: streamlit in c:\\users\\victor\\appdata\\local\\programs\\python\\python310\\lib\\site-packages (1.40.1)\n",
      "Requirement already satisfied: altair<6,>=4.0 in c:\\users\\victor\\appdata\\local\\programs\\python\\python310\\lib\\site-packages (from streamlit) (5.4.1)\n",
      "Requirement already satisfied: blinker<2,>=1.0.0 in c:\\users\\victor\\appdata\\local\\programs\\python\\python310\\lib\\site-packages (from streamlit) (1.9.0)\n",
      "Requirement already satisfied: cachetools<6,>=4.0 in c:\\users\\victor\\appdata\\local\\programs\\python\\python310\\lib\\site-packages (from streamlit) (5.5.0)\n",
      "Requirement already satisfied: click<9,>=7.0 in c:\\users\\victor\\appdata\\local\\programs\\python\\python310\\lib\\site-packages (from streamlit) (8.1.7)\n",
      "Requirement already satisfied: numpy<3,>=1.20 in c:\\users\\victor\\appdata\\local\\programs\\python\\python310\\lib\\site-packages (from streamlit) (1.26.4)\n",
      "Requirement already satisfied: packaging<25,>=20 in c:\\users\\victor\\appdata\\local\\programs\\python\\python310\\lib\\site-packages (from streamlit) (23.2)\n",
      "Requirement already satisfied: pandas<3,>=1.4.0 in c:\\users\\victor\\appdata\\local\\programs\\python\\python310\\lib\\site-packages (from streamlit) (2.2.2)\n",
      "Requirement already satisfied: pillow<12,>=7.1.0 in c:\\users\\victor\\appdata\\local\\programs\\python\\python310\\lib\\site-packages (from streamlit) (10.2.0)\n",
      "Requirement already satisfied: protobuf<6,>=3.20 in c:\\users\\victor\\appdata\\local\\programs\\python\\python310\\lib\\site-packages (from streamlit) (3.20.3)\n",
      "Requirement already satisfied: pyarrow>=7.0 in c:\\users\\victor\\appdata\\local\\programs\\python\\python310\\lib\\site-packages (from streamlit) (17.0.0)\n",
      "Requirement already satisfied: requests<3,>=2.27 in c:\\users\\victor\\appdata\\local\\programs\\python\\python310\\lib\\site-packages (from streamlit) (2.32.3)\n",
      "Requirement already satisfied: rich<14,>=10.14.0 in c:\\users\\victor\\appdata\\local\\programs\\python\\python310\\lib\\site-packages (from streamlit) (13.9.2)\n",
      "Requirement already satisfied: tenacity<10,>=8.1.0 in c:\\users\\victor\\appdata\\local\\programs\\python\\python310\\lib\\site-packages (from streamlit) (8.5.0)\n",
      "Requirement already satisfied: toml<2,>=0.10.1 in c:\\users\\victor\\appdata\\local\\programs\\python\\python310\\lib\\site-packages (from streamlit) (0.10.2)\n",
      "Requirement already satisfied: typing-extensions<5,>=4.3.0 in c:\\users\\victor\\appdata\\local\\programs\\python\\python310\\lib\\site-packages (from streamlit) (4.12.2)\n",
      "Requirement already satisfied: gitpython!=3.1.19,<4,>=3.0.7 in c:\\users\\victor\\appdata\\local\\programs\\python\\python310\\lib\\site-packages (from streamlit) (3.1.43)\n",
      "Requirement already satisfied: pydeck<1,>=0.8.0b4 in c:\\users\\victor\\appdata\\local\\programs\\python\\python310\\lib\\site-packages (from streamlit) (0.9.1)\n",
      "Requirement already satisfied: tornado<7,>=6.0.3 in c:\\users\\victor\\appdata\\local\\programs\\python\\python310\\lib\\site-packages (from streamlit) (6.3.3)\n",
      "Requirement already satisfied: watchdog<7,>=2.1.5 in c:\\users\\victor\\appdata\\local\\programs\\python\\python310\\lib\\site-packages (from streamlit) (6.0.0)\n",
      "Requirement already satisfied: jinja2 in c:\\users\\victor\\appdata\\local\\programs\\python\\python310\\lib\\site-packages (from altair<6,>=4.0->streamlit) (3.1.2)\n",
      "Requirement already satisfied: jsonschema>=3.0 in c:\\users\\victor\\appdata\\local\\programs\\python\\python310\\lib\\site-packages (from altair<6,>=4.0->streamlit) (4.19.1)\n",
      "Requirement already satisfied: narwhals>=1.5.2 in c:\\users\\victor\\appdata\\local\\programs\\python\\python310\\lib\\site-packages (from altair<6,>=4.0->streamlit) (1.14.1)\n",
      "Requirement already satisfied: colorama in c:\\users\\victor\\appdata\\local\\programs\\python\\python310\\lib\\site-packages (from click<9,>=7.0->streamlit) (0.4.6)\n",
      "Requirement already satisfied: gitdb<5,>=4.0.1 in c:\\users\\victor\\appdata\\local\\programs\\python\\python310\\lib\\site-packages (from gitpython!=3.1.19,<4,>=3.0.7->streamlit) (4.0.11)\n",
      "Requirement already satisfied: python-dateutil>=2.8.2 in c:\\users\\victor\\appdata\\local\\programs\\python\\python310\\lib\\site-packages (from pandas<3,>=1.4.0->streamlit) (2.8.2)\n",
      "Requirement already satisfied: pytz>=2020.1 in c:\\users\\victor\\appdata\\local\\programs\\python\\python310\\lib\\site-packages (from pandas<3,>=1.4.0->streamlit) (2024.1)\n",
      "Requirement already satisfied: tzdata>=2022.7 in c:\\users\\victor\\appdata\\local\\programs\\python\\python310\\lib\\site-packages (from pandas<3,>=1.4.0->streamlit) (2024.1)\n",
      "Requirement already satisfied: charset-normalizer<4,>=2 in c:\\users\\victor\\appdata\\local\\programs\\python\\python310\\lib\\site-packages (from requests<3,>=2.27->streamlit) (3.3.1)\n",
      "Requirement already satisfied: idna<4,>=2.5 in c:\\users\\victor\\appdata\\local\\programs\\python\\python310\\lib\\site-packages (from requests<3,>=2.27->streamlit) (3.4)\n",
      "Requirement already satisfied: urllib3<3,>=1.21.1 in c:\\users\\victor\\appdata\\local\\programs\\python\\python310\\lib\\site-packages (from requests<3,>=2.27->streamlit) (2.0.7)\n",
      "Requirement already satisfied: certifi>=2017.4.17 in c:\\users\\victor\\appdata\\local\\programs\\python\\python310\\lib\\site-packages (from requests<3,>=2.27->streamlit) (2023.7.22)\n",
      "Requirement already satisfied: markdown-it-py>=2.2.0 in c:\\users\\victor\\appdata\\local\\programs\\python\\python310\\lib\\site-packages (from rich<14,>=10.14.0->streamlit) (3.0.0)\n",
      "Requirement already satisfied: pygments<3.0.0,>=2.13.0 in c:\\users\\victor\\appdata\\local\\programs\\python\\python310\\lib\\site-packages (from rich<14,>=10.14.0->streamlit) (2.16.1)\n",
      "Requirement already satisfied: smmap<6,>=3.0.1 in c:\\users\\victor\\appdata\\local\\programs\\python\\python310\\lib\\site-packages (from gitdb<5,>=4.0.1->gitpython!=3.1.19,<4,>=3.0.7->streamlit) (5.0.1)\n",
      "Requirement already satisfied: MarkupSafe>=2.0 in c:\\users\\victor\\appdata\\local\\programs\\python\\python310\\lib\\site-packages (from jinja2->altair<6,>=4.0->streamlit) (2.1.3)\n",
      "Requirement already satisfied: attrs>=22.2.0 in c:\\users\\victor\\appdata\\local\\programs\\python\\python310\\lib\\site-packages (from jsonschema>=3.0->altair<6,>=4.0->streamlit) (23.1.0)\n",
      "Requirement already satisfied: jsonschema-specifications>=2023.03.6 in c:\\users\\victor\\appdata\\local\\programs\\python\\python310\\lib\\site-packages (from jsonschema>=3.0->altair<6,>=4.0->streamlit) (2023.7.1)\n",
      "Requirement already satisfied: referencing>=0.28.4 in c:\\users\\victor\\appdata\\local\\programs\\python\\python310\\lib\\site-packages (from jsonschema>=3.0->altair<6,>=4.0->streamlit) (0.30.2)\n",
      "Requirement already satisfied: rpds-py>=0.7.1 in c:\\users\\victor\\appdata\\local\\programs\\python\\python310\\lib\\site-packages (from jsonschema>=3.0->altair<6,>=4.0->streamlit) (0.10.6)\n",
      "Requirement already satisfied: mdurl~=0.1 in c:\\users\\victor\\appdata\\local\\programs\\python\\python310\\lib\\site-packages (from markdown-it-py>=2.2.0->rich<14,>=10.14.0->streamlit) (0.1.2)\n",
      "Requirement already satisfied: six>=1.5 in c:\\users\\victor\\appdata\\local\\programs\\python\\python310\\lib\\site-packages (from python-dateutil>=2.8.2->pandas<3,>=1.4.0->streamlit) (1.16.0)\n",
      "Note: you may need to restart the kernel to use updated packages.\n"
     ]
    }
   ],
   "source": [
    "pip install streamlit"
   ]
  },
  {
   "cell_type": "code",
   "execution_count": 51,
   "metadata": {},
   "outputs": [],
   "source": [
    "import streamlit as st\n",
    "import pandas as pd\n",
    "import matplotlib.pyplot as plt\n",
    "from sklearn.metrics import RocCurveDisplay, classification_report\n",
    "from sklearn.metrics import confusion_matrix\n",
    "import seaborn as sns"
   ]
  },
  {
   "cell_type": "code",
   "execution_count": 41,
   "metadata": {},
   "outputs": [],
   "source": [
    "# Cargar los datos de prueba\n",
    "X_test = pd.read_csv(\"data/X_test.csv\")\n",
    "y_test = pd.read_csv(\"data/y_test.csv\").squeeze()"
   ]
  },
  {
   "cell_type": "code",
   "execution_count": 42,
   "metadata": {},
   "outputs": [],
   "source": [
    "# Cargar el modelo guardado\n",
    "import joblib\n",
    "model_path = \"best_rf_model.pkl\"\n",
    "modelo_cargado = joblib.load(model_path)"
   ]
  },
  {
   "cell_type": "code",
   "execution_count": 43,
   "metadata": {},
   "outputs": [],
   "source": [
    "# Hacer predicciones\n",
    "y_test_pred = modelo_cargado.predict(X_test)\n",
    "y_test_pred_proba = modelo_cargado.predict_proba(X_test)[:, 1]"
   ]
  },
  {
   "cell_type": "code",
   "execution_count": 44,
   "metadata": {},
   "outputs": [
    {
     "name": "stderr",
     "output_type": "stream",
     "text": [
      "2024-11-22 17:17:50.544 Thread 'MainThread': missing ScriptRunContext! This warning can be ignored when running in bare mode.\n",
      "2024-11-22 17:17:50.546 Thread 'MainThread': missing ScriptRunContext! This warning can be ignored when running in bare mode.\n"
     ]
    },
    {
     "data": {
      "text/plain": [
       "DeltaGenerator()"
      ]
     },
     "execution_count": 44,
     "metadata": {},
     "output_type": "execute_result"
    }
   ],
   "source": [
    "# Configurar el Dashboard con Streamlit\n",
    "st.title(\"Dashboard de Resultados del Modelo\")"
   ]
  },
  {
   "cell_type": "code",
   "execution_count": 45,
   "metadata": {},
   "outputs": [
    {
     "name": "stderr",
     "output_type": "stream",
     "text": [
      "2024-11-22 17:17:50.572 Thread 'MainThread': missing ScriptRunContext! This warning can be ignored when running in bare mode.\n",
      "2024-11-22 17:17:50.575 Thread 'MainThread': missing ScriptRunContext! This warning can be ignored when running in bare mode.\n",
      "2024-11-22 17:17:50.605 Thread 'MainThread': missing ScriptRunContext! This warning can be ignored when running in bare mode.\n",
      "2024-11-22 17:17:50.608 Thread 'MainThread': missing ScriptRunContext! This warning can be ignored when running in bare mode.\n"
     ]
    }
   ],
   "source": [
    "st.header(\"Importancia de Variables\")\n",
    "\n",
    "try:\n",
    "    # Extraer los pasos del pipeline\n",
    "    preprocessor = modelo_cargado.named_steps['preprocessor']  # Preprocesador del pipeline\n",
    "    classifier = modelo_cargado.named_steps['classifier']  # Modelo Random Forest\n",
    "\n",
    "    # Obtener las columnas categóricas originales\n",
    "    cat_features = preprocessor.transformers_[0][2]  # Nombres de las columnas categóricas\n",
    "    # Obtener las columnas codificadas tras OneHotEncoding\n",
    "    cat_encoded = preprocessor.named_transformers_['cat'].get_feature_names_out(cat_features)\n",
    "    # Combinar columnas codificadas y numéricas originales\n",
    "    num_features = [col for col in X_test.columns if col not in cat_features]\n",
    "    final_features = list(cat_encoded) + num_features\n",
    "\n",
    "    # Obtener las importancias de las variables\n",
    "    importances = classifier.feature_importances_\n",
    "\n",
    "    # Crear un DataFrame con las importancias\n",
    "    importance_df = pd.DataFrame({\n",
    "        \"Feature\": final_features,\n",
    "        \"Importance\": importances\n",
    "    }).sort_values(by=\"Importance\", ascending=False)\n",
    "\n",
    "    # Mostrar el gráfico de barras\n",
    "    st.bar_chart(importance_df.set_index(\"Feature\"))\n",
    "\n",
    "except Exception as e:\n",
    "    st.write(f\"Error al calcular la importancia de variables: {str(e)}\")\n",
    "\n"
   ]
  },
  {
   "cell_type": "code",
   "execution_count": 46,
   "metadata": {},
   "outputs": [
    {
     "name": "stderr",
     "output_type": "stream",
     "text": [
      "2024-11-22 17:17:50.625 Thread 'MainThread': missing ScriptRunContext! This warning can be ignored when running in bare mode.\n",
      "2024-11-22 17:17:50.625 Thread 'MainThread': missing ScriptRunContext! This warning can be ignored when running in bare mode.\n",
      "2024-11-22 17:17:50.679 Thread 'MainThread': missing ScriptRunContext! This warning can be ignored when running in bare mode.\n",
      "2024-11-22 17:17:50.679 Thread 'MainThread': missing ScriptRunContext! This warning can be ignored when running in bare mode.\n"
     ]
    }
   ],
   "source": [
    "# Métricas clave\n",
    "st.header(\"Métricas del Modelo\")\n",
    "report = classification_report(y_test, y_test_pred, output_dict=True)\n",
    "st.write(pd.DataFrame(report).transpose())"
   ]
  },
  {
   "cell_type": "code",
   "execution_count": 47,
   "metadata": {},
   "outputs": [
    {
     "name": "stderr",
     "output_type": "stream",
     "text": [
      "2024-11-22 17:17:50.701 Thread 'MainThread': missing ScriptRunContext! This warning can be ignored when running in bare mode.\n",
      "2024-11-22 17:17:50.703 Thread 'MainThread': missing ScriptRunContext! This warning can be ignored when running in bare mode.\n",
      "2024-11-22 17:17:50.873 Thread 'MainThread': missing ScriptRunContext! This warning can be ignored when running in bare mode.\n",
      "2024-11-22 17:17:51.036 Thread 'MainThread': missing ScriptRunContext! This warning can be ignored when running in bare mode.\n",
      "2024-11-22 17:17:51.036 Thread 'MainThread': missing ScriptRunContext! This warning can be ignored when running in bare mode.\n"
     ]
    },
    {
     "data": {
      "text/plain": [
       "DeltaGenerator()"
      ]
     },
     "execution_count": 47,
     "metadata": {},
     "output_type": "execute_result"
    }
   ],
   "source": [
    "# Curva ROC\n",
    "st.header(\"Curva ROC\")\n",
    "fig, ax = plt.subplots()\n",
    "RocCurveDisplay.from_estimator(modelo_cargado, X_test, y_test, ax=ax)\n",
    "st.pyplot(fig)\n"
   ]
  },
  {
   "cell_type": "code",
   "execution_count": 48,
   "metadata": {},
   "outputs": [
    {
     "name": "stderr",
     "output_type": "stream",
     "text": [
      "2024-11-22 17:17:51.078 Thread 'MainThread': missing ScriptRunContext! This warning can be ignored when running in bare mode.\n",
      "2024-11-22 17:17:51.078 Thread 'MainThread': missing ScriptRunContext! This warning can be ignored when running in bare mode.\n",
      "2024-11-22 17:17:51.109 Thread 'MainThread': missing ScriptRunContext! This warning can be ignored when running in bare mode.\n",
      "2024-11-22 17:17:51.109 Thread 'MainThread': missing ScriptRunContext! This warning can be ignored when running in bare mode.\n"
     ]
    }
   ],
   "source": [
    "# Importancia de Variables\n",
    "st.header(\"Importancia de Variables\")\n",
    "\n",
    "try:\n",
    "    # Verificar si hay un pipeline\n",
    "    if 'preprocessor' in modelo_cargado.named_steps and 'classifier' in modelo_cargado.named_steps:\n",
    "        # Extraer preprocesador y clasificador\n",
    "        preprocessor = modelo_cargado.named_steps['preprocessor']\n",
    "        classifier = modelo_cargado.named_steps['classifier']\n",
    "\n",
    "        # Obtener las columnas transformadas (si se usa un preprocesador como OneHotEncoder)\n",
    "        try:\n",
    "            cat_features = preprocessor.transformers_[0][2]  # Nombres de las columnas categóricas\n",
    "            cat_encoded = preprocessor.named_transformers_['cat'].get_feature_names_out(cat_features)  # Nombres codificados\n",
    "            num_features = [col for col in X_test.columns if col not in cat_features]\n",
    "            final_features = list(cat_encoded) + num_features\n",
    "        except:\n",
    "            # Si no hay columnas categóricas transformadas, usar las originales\n",
    "            final_features = X_test.columns\n",
    "\n",
    "    else:\n",
    "        # Si no hay pipeline, usar columnas originales\n",
    "        final_features = X_test.columns\n",
    "\n",
    "    # Obtener las importancias\n",
    "    importances = modelo_cargado.named_steps['classifier'].feature_importances_\n",
    "\n",
    "    # Crear el DataFrame de importancia\n",
    "    importance_df = pd.DataFrame({\n",
    "        \"Feature\": final_features,\n",
    "        \"Importance\": importances\n",
    "    }).sort_values(by=\"Importance\", ascending=False)\n",
    "\n",
    "    # Mostrar gráfico\n",
    "    st.bar_chart(importance_df.set_index(\"Feature\"))\n",
    "\n",
    "except Exception as e:\n",
    "    # Si hay algún error, mostrar las importancias genéricas\n",
    "    st.write(f\"No se pudieron mapear las columnas, error: {str(e)}\")\n",
    "    importances = modelo_cargado.named_steps['classifier'].feature_importances_\n",
    "    generic_features = [f\"Feature {i}\" for i in range(len(importances))]\n",
    "    importance_df = pd.DataFrame({\n",
    "        \"Feature\": generic_features,\n",
    "        \"Importance\": importances\n",
    "    }).sort_values(by=\"Importance\", ascending=False)\n",
    "\n",
    "    # Mostrar gráfico con nombres genéricos\n",
    "    st.bar_char\n"
   ]
  },
  {
   "cell_type": "code",
   "execution_count": 49,
   "metadata": {},
   "outputs": [
    {
     "name": "stderr",
     "output_type": "stream",
     "text": [
      "2024-11-22 17:17:51.125 Thread 'MainThread': missing ScriptRunContext! This warning can be ignored when running in bare mode.\n",
      "2024-11-22 17:17:51.125 Thread 'MainThread': missing ScriptRunContext! This warning can be ignored when running in bare mode.\n",
      "2024-11-22 17:17:51.141 Thread 'MainThread': missing ScriptRunContext! This warning can be ignored when running in bare mode.\n",
      "2024-11-22 17:17:51.141 Thread 'MainThread': missing ScriptRunContext! This warning can be ignored when running in bare mode.\n",
      "2024-11-22 17:17:51.141 Thread 'MainThread': missing ScriptRunContext! This warning can be ignored when running in bare mode.\n",
      "2024-11-22 17:17:51.141 Thread 'MainThread': missing ScriptRunContext! This warning can be ignored when running in bare mode.\n",
      "2024-11-22 17:17:51.141 Thread 'MainThread': missing ScriptRunContext! This warning can be ignored when running in bare mode.\n",
      "2024-11-22 17:17:51.141 Thread 'MainThread': missing ScriptRunContext! This warning can be ignored when running in bare mode.\n",
      "2024-11-22 17:17:51.141 Thread 'MainThread': missing ScriptRunContext! This warning can be ignored when running in bare mode.\n",
      "2024-11-22 17:17:51.141 Thread 'MainThread': missing ScriptRunContext! This warning can be ignored when running in bare mode.\n",
      "2024-11-22 17:17:51.159 Thread 'MainThread': missing ScriptRunContext! This warning can be ignored when running in bare mode.\n",
      "2024-11-22 17:17:51.160 Thread 'MainThread': missing ScriptRunContext! This warning can be ignored when running in bare mode.\n"
     ]
    },
    {
     "data": {
      "text/plain": [
       "DeltaGenerator()"
      ]
     },
     "execution_count": 49,
     "metadata": {},
     "output_type": "execute_result"
    }
   ],
   "source": [
    "# Distribución de Errores\n",
    "st.header(\"Distribución de Predicciones\")\n",
    "errors = pd.DataFrame({\n",
    "    \"Actual\": y_test,\n",
    "    \"Predicho\": y_test_pred,\n",
    "    \"Probabilidad\": y_test_pred_proba\n",
    "})\n",
    "falsos_negativos = errors[(errors[\"Actual\"] == 1) & (errors[\"Predicho\"] == 0)]\n",
    "falsos_positivos = errors[(errors[\"Actual\"] == 0) & (errors[\"Predicho\"] == 1)]\n",
    "st.write(f\"Falsos Negativos: {len(falsos_negativos)}\")\n",
    "st.write(f\"Falsos Positivos: {len(falsos_positivos)}\")\n",
    "st.dataframe(errors.head(10))"
   ]
  },
  {
   "cell_type": "code",
   "execution_count": 52,
   "metadata": {},
   "outputs": [
    {
     "name": "stderr",
     "output_type": "stream",
     "text": [
      "2024-11-22 17:19:36.629 Thread 'MainThread': missing ScriptRunContext! This warning can be ignored when running in bare mode.\n",
      "2024-11-22 17:19:36.631 Thread 'MainThread': missing ScriptRunContext! This warning can be ignored when running in bare mode.\n",
      "2024-11-22 17:19:37.065 Thread 'MainThread': missing ScriptRunContext! This warning can be ignored when running in bare mode.\n",
      "2024-11-22 17:19:37.326 Thread 'MainThread': missing ScriptRunContext! This warning can be ignored when running in bare mode.\n",
      "2024-11-22 17:19:37.327 Thread 'MainThread': missing ScriptRunContext! This warning can be ignored when running in bare mode.\n"
     ]
    },
    {
     "data": {
      "text/plain": [
       "DeltaGenerator()"
      ]
     },
     "execution_count": 52,
     "metadata": {},
     "output_type": "execute_result"
    }
   ],
   "source": [
    "# Distribución de Probabilidades de Predicción\n",
    "st.header(\"Distribución de Probabilidades de Predicción\")\n",
    "y_test_proba = modelo_cargado.predict_proba(X_test)[:, 1]\n",
    "\n",
    "fig, ax = plt.subplots(figsize=(8, 6))\n",
    "sns.histplot(y_test_proba, kde=True, color=\"blue\", bins=30)\n",
    "plt.title(\"Distribución de Probabilidades de Predicción\")\n",
    "plt.xlabel(\"Probabilidad de Avería\")\n",
    "plt.ylabel(\"Frecuencia\")\n",
    "st.pyplot(fig)\n"
   ]
  },
  {
   "cell_type": "code",
   "execution_count": null,
   "metadata": {},
   "outputs": [],
   "source": []
  }
 ],
 "metadata": {
  "kernelspec": {
   "display_name": "Python 3",
   "language": "python",
   "name": "python3"
  },
  "language_info": {
   "codemirror_mode": {
    "name": "ipython",
    "version": 3
   },
   "file_extension": ".py",
   "mimetype": "text/x-python",
   "name": "python",
   "nbconvert_exporter": "python",
   "pygments_lexer": "ipython3",
   "version": "3.10.11"
  }
 },
 "nbformat": 4,
 "nbformat_minor": 2
}
