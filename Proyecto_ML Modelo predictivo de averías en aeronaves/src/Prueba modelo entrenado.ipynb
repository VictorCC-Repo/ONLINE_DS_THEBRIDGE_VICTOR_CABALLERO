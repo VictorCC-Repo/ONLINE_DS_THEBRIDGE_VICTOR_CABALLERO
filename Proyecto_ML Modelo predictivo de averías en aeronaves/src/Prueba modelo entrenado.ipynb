{
 "cells": [
  {
   "cell_type": "code",
   "execution_count": 8,
   "metadata": {},
   "outputs": [],
   "source": [
    "# 1. Importar librerías necesarias\n",
    "import joblib\n",
    "import pandas as pd\n",
    "from sklearn.metrics import classification_report, roc_auc_score\n",
    "from sklearn.metrics import classification_report, roc_auc_score"
   ]
  },
  {
   "cell_type": "code",
   "execution_count": 9,
   "metadata": {},
   "outputs": [
    {
     "name": "stdout",
     "output_type": "stream",
     "text": [
      "Modelo cargado con éxito desde la carpeta actual.\n"
     ]
    }
   ],
   "source": [
    "# Cargar el modelo desde la carpeta actual\n",
    "model_path = \"best_rf_model.pkl\"\n",
    "modelo_cargado = joblib.load(model_path)\n",
    "print(\"Modelo cargado con éxito desde la carpeta actual.\")"
   ]
  },
  {
   "cell_type": "code",
   "execution_count": 10,
   "metadata": {},
   "outputs": [],
   "source": [
    "# Cargar los datos de prueba\n",
    "X_test = pd.read_csv(\"data/X_test.csv\")\n",
    "y_test = pd.read_csv(\"data/y_test.csv\").squeeze()  # Convertir a Serie para usar como etiqueta"
   ]
  },
  {
   "cell_type": "code",
   "execution_count": 11,
   "metadata": {},
   "outputs": [],
   "source": [
    "# Hacer predicciones con el modelo cargado\n",
    "y_test_pred = modelo_cargado.predict(X_test)\n",
    "y_test_pred_proba = modelo_cargado.predict_proba(X_test)[:, 1]"
   ]
  },
  {
   "cell_type": "code",
   "execution_count": 13,
   "metadata": {},
   "outputs": [
    {
     "name": "stdout",
     "output_type": "stream",
     "text": [
      "Reporte de Clasificación:\n",
      "              precision    recall  f1-score   support\n",
      "\n",
      "           0       1.00      1.00      1.00     29998\n",
      "           1       1.00      0.97      0.98       497\n",
      "\n",
      "    accuracy                           1.00     30495\n",
      "   macro avg       1.00      0.98      0.99     30495\n",
      "weighted avg       1.00      1.00      1.00     30495\n",
      "\n"
     ]
    }
   ],
   "source": [
    "print(\"Reporte de Clasificación:\")\n",
    "print(classification_report(y_test, y_test_pred))"
   ]
  },
  {
   "cell_type": "code",
   "execution_count": 14,
   "metadata": {},
   "outputs": [
    {
     "name": "stdout",
     "output_type": "stream",
     "text": [
      "ROC-AUC Score en Test: 0.9828486889065575\n"
     ]
    }
   ],
   "source": [
    "print(\"ROC-AUC Score en Test:\", roc_auc_score(y_test, y_test_pred_proba))"
   ]
  },
  {
   "cell_type": "markdown",
   "metadata": {},
   "source": [
    "### Conclusiones:\n",
    "\n",
    "- Se probó el modelo final en el conjunto de datos de prueba. Los resultados obtenidos confirman el excelente rendimiento del modelo para la predicción de averías.\n",
    "\n",
    "### Métricas de Clasificación:\n",
    "- **Precisión general:** 100% para la clase 0 (sin avería) y 97% para la clase 1 (avería).\n",
    "- **Recall:** El modelo detectó correctamente el 97% de las averías reales.\n",
    "- **F1-Score:** Excelente balance entre precisión y recall, con un valor promedio ponderado de 0.99.\n",
    "- **Soporte:** Las métricas se basan en un total de 30,495 observaciones (29,998 sin averías y 497 con averías).\n",
    "\n",
    "### Reporte de Clasificación:\n",
    " - La precisión perfecta en la clase 0 asegura que el modelo no genera falsos positivos, evitando inspecciones innecesarias.\n",
    " - Aunque el recall de la clase 1 es alto, los falsos negativos (~3%) representan un área de mejora crítica, ya que implican averías no detectadas.\n",
    "\n",
    "### Roc-Auc:\n",
    " - La curva ROC demuestra la capacidad del modelo para asignar correctamente probabilidades altas a las observaciones con averías (1) y bajas a las observaciones sin averías (0).\n",
    " - El área bajo la curva (AUC) cercano a 1 refleja un modelo con un excelente rendimiento."
   ]
  },
  {
   "cell_type": "markdown",
   "metadata": {},
   "source": []
  }
 ],
 "metadata": {
  "kernelspec": {
   "display_name": "Python 3",
   "language": "python",
   "name": "python3"
  },
  "language_info": {
   "codemirror_mode": {
    "name": "ipython",
    "version": 3
   },
   "file_extension": ".py",
   "mimetype": "text/x-python",
   "name": "python",
   "nbconvert_exporter": "python",
   "pygments_lexer": "ipython3",
   "version": "3.10.11"
  }
 },
 "nbformat": 4,
 "nbformat_minor": 2
}
