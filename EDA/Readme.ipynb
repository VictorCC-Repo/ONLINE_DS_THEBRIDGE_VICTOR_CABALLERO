{
 "cells": [
  {
   "cell_type": "markdown",
   "metadata": {},
   "source": [
    "Este proyecto realiza un Análisis Exploratorio de Datos (EDA) sobre los retrasos en vuelos, identificando las principales causas, estaciones más afectadas y patrones de retraso. El objetivo es proporcionar insights valiosos para mejorar la eficiencia operativa y reducir los tiempos de retraso.\n",
    "\n",
    "Los datos los obtenemos a partir de una aerolinea que opera entre las Islas Azores, España peninsular y Europa.\n",
    "\n",
    "Contenido:\n",
    "\n",
    "1. Distribución de Retrasos por Tipo de Avería (ATA)\n",
    "2. Variabilidad de Retrasos por Año y Tipo de Avería\n",
    "3. Estaciones con Más Retrasos\n",
    "4. Minutos de Retraso por Estación\n",
    "5. Distribución de los Minutos de Retraso\n",
    "6. Total de Minutos de Retraso por ATA\n",
    "\n",
    "Visualizaciones:\n",
    "\n",
    "El proyecto incluye varias visualizaciones para facilitar el entendimiento de los datos:\n",
    "1. Gráficos de barras horizontales de las estaciones con más retrasos.\n",
    "2. Histogramas de la distribución de los minutos de retraso.\n",
    "3. Gráficos circulares de la distribución de los retrasos por estación y tipo de avería.\n",
    "4. Boxplots de los minutos de retraso por año y tipo de avería.\n",
    "\n",
    "Memoria:\n",
    "\n",
    "1. Refleja el proceso para la obtención y tratamiento de los datos. \n",
    "2. Explicación del uso y finalidad de las distintas visualizaciones.\n",
    "3. Conclusiones y mejoras."
   ]
  },
  {
   "cell_type": "markdown",
   "metadata": {},
   "source": []
  }
 ],
 "metadata": {
  "kernelspec": {
   "display_name": "Python 3",
   "language": "python",
   "name": "python3"
  },
  "language_info": {
   "name": "python",
   "version": "3.10.11"
  }
 },
 "nbformat": 4,
 "nbformat_minor": 2
}
